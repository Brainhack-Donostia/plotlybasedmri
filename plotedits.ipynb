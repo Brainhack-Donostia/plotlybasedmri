{
 "cells": [
  {
   "cell_type": "code",
   "execution_count": 72,
   "metadata": {
    "scrolled": false
   },
   "outputs": [
    {
     "data": {
      "application/vnd.jupyter.widget-view+json": {
       "model_id": "cf0b10ecf9b340c4b8263c361ac22091",
       "version_major": 2,
       "version_minor": 0
      },
      "text/plain": [
       "HBox(children=(Text(value='0', description='y:'), Button(description='Reset', style=ButtonStyle())))"
      ]
     },
     "metadata": {},
     "output_type": "display_data"
    },
    {
     "data": {
      "application/vnd.jupyter.widget-view+json": {
       "model_id": "be424f70c96f43f7ad1b5578bbfb2a4c",
       "version_major": 2,
       "version_minor": 0
      },
      "text/plain": [
       "FigureWidget({\n",
       "    'data': [{'marker': {'color': [#a3a7e4, #a3a7e4, #a3a7e4, #a3a7e4, #a3a7e4,\n",
       "               …"
      ]
     },
     "metadata": {},
     "output_type": "display_data"
    }
   ],
   "source": [
    "import plotly.graph_objs as go\n",
    "from ipywidgets import widgets\n",
    "from IPython.display import display, clear_output\n",
    "from plotly.widgets import GraphWidget\n",
    "import numpy as np\n",
    "import plotly\n",
    "\n",
    "N = 100\n",
    "x = np.random.randn(N)+1\n",
    "y_orig = np.random.randn(N)+2\n",
    "y_new = y_orig\n",
    "\n",
    "global saved_points \n",
    "saved_points = {'idxs': [], 'x': [], 'y': []}\n",
    "\n",
    "# Assigns plot array the original values\n",
    "def resetValues(b):\n",
    "    f.data[0].x = x\n",
    "    f.data[0].y = y_orig\n",
    "    scatter = f.data[0]\n",
    "    colors = ['#a3a7e4'] * 100\n",
    "    scatter.marker.color = colors\n",
    "    scatter.marker.size = [10] * 100\n",
    "    f.layout.hovermode = 'closest'\n",
    "\n",
    "# Generates button to reset plot\n",
    "reset_bt = widgets.Button(description=\"Reset\")\n",
    "\n",
    "# Box to specify what value to give the selected points\n",
    "text_input = widgets.Text(\n",
    "    description='y:',\n",
    "    value='0',\n",
    ")\n",
    "\n",
    "# Callback for reset button\n",
    "reset_bt.on_click(resetValues)\n",
    "\n",
    "# Generates box and button\n",
    "container = widgets.HBox(children=[text_input, reset_bt])\n",
    "display(container)\n",
    "\n",
    "# Generates figure\n",
    "f = go.FigureWidget([go.Scatter(x=x, y=y_orig, mode = 'markers')])\n",
    "\n",
    "# Specify figure data\n",
    "scatter = f.data[0]\n",
    "colors = ['#a3a7e4'] * 100\n",
    "scatter.marker.color = colors\n",
    "scatter.marker.size = [10] * 100\n",
    "f.layout.hovermode = 'closest'\n",
    "\n",
    "# create our callback function to update points (save points)\n",
    "def update_point(trace, points, selector):\n",
    "    y_new[points.point_inds] = float(text_input.value)\n",
    "    print(points)\n",
    "    f.data[0].x = x\n",
    "    f.data[0].y = y_new\n",
    "    c = list(scatter.marker.color)\n",
    "    s = list(scatter.marker.size)\n",
    "    for i in points.point_inds:\n",
    "        c[i] = '#f23535'\n",
    "        s[i] = 20\n",
    "        scatter.marker.color = c\n",
    "        scatter.marker.size = s\n",
    "        #print(c)\n",
    "    #print(y_orig)\n",
    "    saved_points['idxs'].append(points.point_inds[0])\n",
    "    saved_points['x'].append(points.xs[0])\n",
    "    saved_points['y'].append(points.ys[0])\n",
    "\n",
    "# Update points \n",
    "scatter.on_click(update_point)\n",
    "scatter.on_selection(update_point)\n",
    "\n",
    "# Show plot\n",
    "f"
   ]
  },
  {
   "cell_type": "code",
   "execution_count": 68,
   "metadata": {},
   "outputs": [
    {
     "name": "stdout",
     "output_type": "stream",
     "text": [
      "{'idxs': [0, 72, 32, 1], 'x': [1.1065700557810008, 3.2760745023464706, 3.0628840398700334, 3.109566453742674], 'y': [4.265952715814748, 4.573288316802312, 3.5921903797571604, 3.0841525911204366]}\n"
     ]
    }
   ],
   "source": [
    "print(saved_points)"
   ]
  },
  {
   "cell_type": "code",
   "execution_count": 49,
   "metadata": {},
   "outputs": [
    {
     "ename": "AttributeError",
     "evalue": "'Scatter' object has no attribute 'callba'",
     "output_type": "error",
     "traceback": [
      "\u001b[0;31m---------------------------------------------------------------------------\u001b[0m",
      "\u001b[0;31mAttributeError\u001b[0m                            Traceback (most recent call last)",
      "\u001b[0;32m<ipython-input-49-c2d84996df1a>\u001b[0m in \u001b[0;36m<module>\u001b[0;34m\u001b[0m\n\u001b[0;32m----> 1\u001b[0;31m \u001b[0mscatter\u001b[0m\u001b[0;34m.\u001b[0m\u001b[0mcallba\u001b[0m\u001b[0;34m\u001b[0m\u001b[0m\n\u001b[0m",
      "\u001b[0;31mAttributeError\u001b[0m: 'Scatter' object has no attribute 'callba'"
     ]
    }
   ],
   "source": [
    "def generate_map(orig_vol, idxs, bold):\n",
    "    \n",
    "    selected_vol = orig_vol[:,:,:,idxs] # only save selected timepoints to work with a smaller volume\n",
    "    selected_vol[bold[idxs] < 0] = -selected_vol[:,:,:,idxs] # multiply by minus 1 volume of selected timepoint that had a negative BOLD amplitude\n",
    "    cap_map = np.mean(selected_vol, axis=-1) # Generate the map by calculating the mean\n",
    "    \n",
    "    return(cap_map)\n",
    "    "
   ]
  },
  {
   "cell_type": "code",
   "execution_count": null,
   "metadata": {},
   "outputs": [],
   "source": []
  }
 ],
 "metadata": {
  "kernelspec": {
   "display_name": "Python 3",
   "language": "python",
   "name": "python3"
  },
  "language_info": {
   "codemirror_mode": {
    "name": "ipython",
    "version": 3
   },
   "file_extension": ".py",
   "mimetype": "text/x-python",
   "name": "python",
   "nbconvert_exporter": "python",
   "pygments_lexer": "ipython3",
   "version": "3.6.4"
  }
 },
 "nbformat": 4,
 "nbformat_minor": 2
}
