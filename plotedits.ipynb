{
 "cells": [
  {
   "cell_type": "code",
   "execution_count": 70,
   "metadata": {
    "scrolled": false
   },
   "outputs": [
    {
     "data": {
      "application/vnd.jupyter.widget-view+json": {
       "model_id": "2807f63d11474f12a8e7419b344498d3",
       "version_major": 2,
       "version_minor": 0
      },
      "text/plain": [
       "HBox(children=(Text(value='0', description='y:'), Button(description='Reset', style=ButtonStyle())))"
      ]
     },
     "metadata": {},
     "output_type": "display_data"
    },
    {
     "data": {
      "application/vnd.jupyter.widget-view+json": {
       "model_id": "b060a36dda1d4f5191e724857d5c8585",
       "version_major": 2,
       "version_minor": 0
      },
      "text/plain": [
       "FigureWidget({\n",
       "    'data': [{'marker': {'color': [#a3a7e4, #a3a7e4, #a3a7e4, #a3a7e4, #a3a7e4,\n",
       "               …"
      ]
     },
     "metadata": {},
     "output_type": "display_data"
    },
    {
     "name": "stdout",
     "output_type": "stream",
     "text": [
      "Points(point_inds=[89],\n",
      "       xs=[2.4147814052041445],\n",
      "       ys=[3.694097639592686],\n",
      "       trace_name='trace 0',\n",
      "       trace_index=0)\n",
      "Points(point_inds=[73],\n",
      "       xs=[2.4485920937186973],\n",
      "       ys=[2.1942269535612486],\n",
      "       trace_name='trace 0',\n",
      "       trace_index=0)\n",
      "Points(point_inds=[13, 70],\n",
      "       xs=[1.8475627784140887, 1.6844491398710866],\n",
      "       ys=[4.149592407138113, 4.303255027752433],\n",
      "       trace_name='trace 0',\n",
      "       trace_index=0)\n",
      "Points(point_inds=[3, 7, 23, 27, 65, 92],\n",
      "       xs=[1.5746514333043682, 1.4784841699324844, 1.4980763710942915,\n",
      "           1.594599361941607, 1.4882644595452823, 1.490530074464158],\n",
      "       ys=[2.18309433979261, 1.733112739155068, 2.4595206687541857,\n",
      "           1.9099496224324217, 2.631727844238955, 2.6757851561251993],\n",
      "       trace_name='trace 0',\n",
      "       trace_index=0)\n"
     ]
    }
   ],
   "source": [
    "import plotly.graph_objs as go\n",
    "from ipywidgets import widgets\n",
    "from IPython.display import display, clear_output\n",
    "from plotly.widgets import GraphWidget\n",
    "import numpy as np\n",
    "import plotly\n",
    "\n",
    "N = 100\n",
    "x = np.random.randn(N)+1\n",
    "y_orig = np.random.randn(N)+2\n",
    "y_new = y_orig\n",
    "\n",
    "def resetValues(b):\n",
    "    f.data[0].x = x\n",
    "    f.data[0].y = y_orig\n",
    "    scatter = f.data[0]\n",
    "    colors = ['#a3a7e4'] * 100\n",
    "    scatter.marker.color = colors\n",
    "    scatter.marker.size = [10] * 100\n",
    "    f.layout.hovermode = 'closest'\n",
    "\n",
    "reset_bt = widgets.Button(description=\"Reset\")\n",
    "\n",
    "text_input = widgets.Text(\n",
    "    description='y:',\n",
    "    value='0',\n",
    ")\n",
    "\n",
    "reset_bt.on_click(resetValues)\n",
    "\n",
    "container = widgets.HBox(children=[text_input, reset_bt])\n",
    "display(container)\n",
    "\n",
    "f = go.FigureWidget([go.Scatter(x=x, y=y_orig, mode = 'markers')])\n",
    "\n",
    "scatter = f.data[0]\n",
    "colors = ['#a3a7e4'] * 100\n",
    "scatter.marker.color = colors\n",
    "scatter.marker.size = [10] * 100\n",
    "f.layout.hovermode = 'closest'\n",
    "\n",
    "global saved_points \n",
    "saved_points = {'idxs': [], 'x': [], 'y': []}\n",
    "\n",
    "# create our callback function\n",
    "def update_point(trace, points, selector):\n",
    "    y_new[points.point_inds] = float(text_input.value)\n",
    "    print(points)\n",
    "    f.data[0].x = x\n",
    "    f.data[0].y = y_new\n",
    "    c = list(scatter.marker.color)\n",
    "    s = list(scatter.marker.size)\n",
    "    for i in points.point_inds:\n",
    "        c[i] = '#f23535'\n",
    "        s[i] = 20\n",
    "        scatter.marker.color = c\n",
    "        scatter.marker.size = s\n",
    "        #print(c)\n",
    "    #print(y_orig)\n",
    "    saved_points['idxs'].append(points.point_inds[0])\n",
    "    saved_points['x'].append(points.xs[0])\n",
    "    saved_points['y'].append(points.ys[0])\n",
    "    \n",
    "scatter.on_click(update_point)\n",
    "scatter.on_selection(update_point)\n",
    "\n",
    "f"
   ]
  },
  {
   "cell_type": "code",
   "execution_count": 68,
   "metadata": {},
   "outputs": [
    {
     "name": "stdout",
     "output_type": "stream",
     "text": [
      "{'idxs': [0, 72, 32, 1], 'x': [1.1065700557810008, 3.2760745023464706, 3.0628840398700334, 3.109566453742674], 'y': [4.265952715814748, 4.573288316802312, 3.5921903797571604, 3.0841525911204366]}\n"
     ]
    }
   ],
   "source": [
    "print(saved_points)"
   ]
  },
  {
   "cell_type": "code",
   "execution_count": 49,
   "metadata": {},
   "outputs": [
    {
     "ename": "AttributeError",
     "evalue": "'Scatter' object has no attribute 'callba'",
     "output_type": "error",
     "traceback": [
      "\u001b[0;31m---------------------------------------------------------------------------\u001b[0m",
      "\u001b[0;31mAttributeError\u001b[0m                            Traceback (most recent call last)",
      "\u001b[0;32m<ipython-input-49-c2d84996df1a>\u001b[0m in \u001b[0;36m<module>\u001b[0;34m\u001b[0m\n\u001b[0;32m----> 1\u001b[0;31m \u001b[0mscatter\u001b[0m\u001b[0;34m.\u001b[0m\u001b[0mcallba\u001b[0m\u001b[0;34m\u001b[0m\u001b[0m\n\u001b[0m",
      "\u001b[0;31mAttributeError\u001b[0m: 'Scatter' object has no attribute 'callba'"
     ]
    }
   ],
   "source": [
    "scatter.callba"
   ]
  },
  {
   "cell_type": "code",
   "execution_count": null,
   "metadata": {},
   "outputs": [],
   "source": []
  }
 ],
 "metadata": {
  "kernelspec": {
   "display_name": "Python 3",
   "language": "python",
   "name": "python3"
  },
  "language_info": {
   "codemirror_mode": {
    "name": "ipython",
    "version": 3
   },
   "file_extension": ".py",
   "mimetype": "text/x-python",
   "name": "python",
   "nbconvert_exporter": "python",
   "pygments_lexer": "ipython3",
   "version": "3.6.4"
  }
 },
 "nbformat": 4,
 "nbformat_minor": 2
}
