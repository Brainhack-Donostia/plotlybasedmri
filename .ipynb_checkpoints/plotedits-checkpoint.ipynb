{
 "cells": [
  {
   "cell_type": "code",
   "execution_count": 31,
   "metadata": {
    "scrolled": false
   },
   "outputs": [
    {
     "data": {
      "application/vnd.jupyter.widget-view+json": {
       "model_id": "e67c5d2bf9e14e7e8be193f857acbb91",
       "version_major": 2,
       "version_minor": 0
      },
      "text/plain": [
       "HBox(children=(Text(value='0', description='y:'), Button(description='Reset', style=ButtonStyle())))"
      ]
     },
     "metadata": {},
     "output_type": "display_data"
    },
    {
     "data": {
      "application/vnd.jupyter.widget-view+json": {
       "model_id": "ee058b4299964485a314566f35139382",
       "version_major": 2,
       "version_minor": 0
      },
      "text/plain": [
       "FigureWidget({\n",
       "    'data': [{'marker': {'color': [#a3a7e4, #a3a7e4, #a3a7e4, #a3a7e4, #a3a7e4,\n",
       "               …"
      ]
     },
     "metadata": {},
     "output_type": "display_data"
    }
   ],
   "source": [
    "import plotly.graph_objs as go\n",
    "from ipywidgets import widgets\n",
    "from IPython.display import display, clear_output\n",
    "from plotly.widgets import GraphWidget\n",
    "import numpy as np\n",
    "import plotly.plotly as py\n",
    "from skimage import io\n",
    "import nibabel as nib\n",
    "import SimpleITK as sitk\n",
    "from plotly.grid_objs import Grid, Column\n",
    "import time\n",
    "import pandas as pd\n",
    "from plotly import tools\n",
    "import plotly\n",
    "from plotly.offline import download_plotlyjs, init_notebook_mode, iplot\n",
    "\n",
    "N = 100\n",
    "x = np.random.randn(N)+1\n",
    "y_orig = np.random.randn(N)+2\n",
    "y_new = y_orig\n",
    "\n",
    "global saved_points \n",
    "saved_points = {'idxs': [], 'x': [], 'y': []}\n",
    "\n",
    "# Assigns plot array the original values\n",
    "def resetValues(b):\n",
    "    f.data[0].x = x\n",
    "    f.data[0].y = y_orig\n",
    "    scatter = f.data[0]\n",
    "    colors = ['#a3a7e4'] * 100\n",
    "    scatter.marker.color = colors\n",
    "    scatter.marker.size = [10] * 100\n",
    "    f.layout.hovermode = 'closest'\n",
    "\n",
    "# Generates button to reset plot\n",
    "reset_bt = widgets.Button(description=\"Reset\")\n",
    "\n",
    "# Box to specify what value to give the selected points\n",
    "text_input = widgets.Text(\n",
    "    description='y:',\n",
    "    value='0',\n",
    ")\n",
    "\n",
    "# Callback for reset button\n",
    "reset_bt.on_click(resetValues)\n",
    "\n",
    "# Generates box and button\n",
    "container = widgets.HBox(children=[text_input, reset_bt])\n",
    "display(container)\n",
    "\n",
    "# Generates figure\n",
    "f = go.FigureWidget([go.Scatter(x=x, y=y_orig, mode = 'markers')])\n",
    "\n",
    "# Specify figure data\n",
    "scatter = f.data[0]\n",
    "colors = ['#a3a7e4'] * 100\n",
    "scatter.marker.color = colors\n",
    "scatter.marker.size = [10] * 100\n",
    "f.layout.hovermode = 'closest'\n",
    "\n",
    "# create our callback function to update points (save points)\n",
    "def update_point(trace, points, selector):\n",
    "    y_new[points.point_inds] = float(text_input.value)\n",
    "    print(points)\n",
    "    f.data[0].x = x\n",
    "    f.data[0].y = y_new\n",
    "    c = list(scatter.marker.color)\n",
    "    s = list(scatter.marker.size)\n",
    "    for i in points.point_inds:\n",
    "        c[i] = '#f23535'\n",
    "        s[i] = 20\n",
    "        scatter.marker.color = c\n",
    "        scatter.marker.size = s\n",
    "        #print(c)\n",
    "    #print(y_orig)\n",
    "    saved_points['idxs'].append(points.point_inds[0])\n",
    "    saved_points['x'].append(points.xs[0])\n",
    "    saved_points['y'].append(points.ys[0])\n",
    "\n",
    "# Update points \n",
    "scatter.on_click(update_point)\n",
    "scatter.on_selection(update_point)\n",
    "\n",
    "# Show plot\n",
    "f"
   ]
  },
  {
   "cell_type": "code",
   "execution_count": 49,
   "metadata": {},
   "outputs": [
    {
     "ename": "AttributeError",
     "evalue": "'Scatter' object has no attribute 'callba'",
     "output_type": "error",
     "traceback": [
      "\u001b[0;31m---------------------------------------------------------------------------\u001b[0m",
      "\u001b[0;31mAttributeError\u001b[0m                            Traceback (most recent call last)",
      "\u001b[0;32m<ipython-input-49-c2d84996df1a>\u001b[0m in \u001b[0;36m<module>\u001b[0;34m\u001b[0m\n\u001b[0;32m----> 1\u001b[0;31m \u001b[0mscatter\u001b[0m\u001b[0;34m.\u001b[0m\u001b[0mcallba\u001b[0m\u001b[0;34m\u001b[0m\u001b[0m\n\u001b[0m",
      "\u001b[0;31mAttributeError\u001b[0m: 'Scatter' object has no attribute 'callba'"
     ]
    }
   ],
   "source": [
    "def generate_map(orig_vol, idxs, bold):\n",
    "    \n",
    "    selected_vol = orig_vol[:,:,:,idxs] # only save selected timepoints to work with a smaller volume\n",
    "    selected_vol[bold[idxs] < 0] = -selected_vol[:,:,:,idxs] # multiply by minus 1 volume of selected timepoint that had a negative BOLD amplitude\n",
    "    cap_map = np.mean(selected_vol, axis=-1) # Generate the map by calculating the mean\n",
    "    \n",
    "    return(cap_map)\n",
    "    "
   ]
  },
  {
   "cell_type": "code",
   "execution_count": 23,
   "metadata": {},
   "outputs": [],
   "source": [
    "nifti_image_filename = 'MNI152_T1_3mm_brain.nii.gz'\n",
    "tif_image_filename = 'template.tif'\n",
    "\n",
    "reader = sitk.ImageFileReader()\n",
    "reader.SetImageIO('NiftiImageIO')\n",
    "reader.SetFileName(nifti_image_filename)\n",
    "image = reader.Execute()\n",
    "writer = sitk.ImageFileWriter()\n",
    "writer.SetFileName(tif_image_filename)\n",
    "writer.Execute(image)"
   ]
  },
  {
   "cell_type": "code",
   "execution_count": 42,
   "metadata": {},
   "outputs": [],
   "source": [
    "vol = io.imread('attention-mri.tif')\n",
    "volume = vol.T\n",
    "r, c = volume[0].shape\n",
    "\n",
    "my_columns = []\n",
    "nr_frames = 68\n",
    "#grid = pd.DataFrame()\n",
    "\n",
    "for k in range(nr_frames):\n",
    "    #grid = grid.append({'z{}'.format(k + 1): (6.7 - k * 0.1) * np.ones((r, c)), 'surfc{}'.format(k + 1): np.flipud(volume[67 - k])}, ignore_index=True)\n",
    "    my_columns.extend(\n",
    "        [Column((6.7 - k * 0.1) * np.ones((r, c)), 'z{}'.format(k + 1)),\n",
    "         Column(np.flipud(volume[67 - k]), 'surfc{}'.format(k + 1))]\n",
    "    )\n",
    "grid = Grid(my_columns)\n"
   ]
  },
  {
   "cell_type": "code",
   "execution_count": 43,
   "metadata": {},
   "outputs": [],
   "source": [
    "pl_bone = [\n",
    "    [0.0, 'rgb(0, 0, 0)'],\n",
    "    [0.05, 'rgb(10, 10, 14)'],\n",
    "    [0.1, 'rgb(21, 21, 30)'],\n",
    "    [0.15, 'rgb(33, 33, 46)'],\n",
    "    [0.2, 'rgb(44, 44, 62)'],\n",
    "    [0.25, 'rgb(56, 55, 77)'],\n",
    "    [0.3, 'rgb(66, 66, 92)'],\n",
    "    [0.35, 'rgb(77, 77, 108)'],\n",
    "    [0.4, 'rgb(89, 92, 121)'],\n",
    "    [0.45, 'rgb(100, 107, 132)'],\n",
    "    [0.5, 'rgb(112, 123, 143)'],\n",
    "    [0.55, 'rgb(122, 137, 154)'],\n",
    "    [0.6, 'rgb(133, 153, 165)'],\n",
    "    [0.65, 'rgb(145, 169, 177)'],\n",
    "    [0.7, 'rgb(156, 184, 188)'],\n",
    "    [0.75, 'rgb(168, 199, 199)'],\n",
    "    [0.8, 'rgb(185, 210, 210)'],\n",
    "    [0.85, 'rgb(203, 221, 221)'],\n",
    "    [0.9, 'rgb(220, 233, 233)'],\n",
    "    [0.95, 'rgb(238, 244, 244)'],\n",
    "    [1.0, 'rgb(255, 255, 255)']\n",
    "]"
   ]
  },
  {
   "cell_type": "code",
   "execution_count": 39,
   "metadata": {},
   "outputs": [
    {
     "ename": "AttributeError",
     "evalue": "'Grid' object has no attribute 'loc'",
     "output_type": "error",
     "traceback": [
      "\u001b[0;31m---------------------------------------------------------------------------\u001b[0m",
      "\u001b[0;31mAttributeError\u001b[0m                            Traceback (most recent call last)",
      "\u001b[0;32m<ipython-input-39-3933e2a23dba>\u001b[0m in \u001b[0;36m<module>\u001b[0;34m\u001b[0m\n\u001b[1;32m      2\u001b[0m     dict(\n\u001b[1;32m      3\u001b[0m         \u001b[0mtype\u001b[0m\u001b[0;34m=\u001b[0m\u001b[0;34m'surface'\u001b[0m\u001b[0;34m,\u001b[0m\u001b[0;34m\u001b[0m\u001b[0m\n\u001b[0;32m----> 4\u001b[0;31m         \u001b[0mzsrc\u001b[0m\u001b[0;34m=\u001b[0m\u001b[0mgrid\u001b[0m\u001b[0;34m.\u001b[0m\u001b[0mloc\u001b[0m\u001b[0;34m[\u001b[0m\u001b[0;34m:\u001b[0m\u001b[0;34m,\u001b[0m\u001b[0;34m'z1'\u001b[0m\u001b[0;34m]\u001b[0m\u001b[0;34m.\u001b[0m\u001b[0mdropna\u001b[0m\u001b[0;34m(\u001b[0m\u001b[0;34m)\u001b[0m\u001b[0;34m,\u001b[0m\u001b[0;34m\u001b[0m\u001b[0m\n\u001b[0m\u001b[1;32m      5\u001b[0m         \u001b[0msurfacecolorsrc\u001b[0m\u001b[0;34m=\u001b[0m\u001b[0mgrid\u001b[0m\u001b[0;34m.\u001b[0m\u001b[0mloc\u001b[0m\u001b[0;34m[\u001b[0m\u001b[0;34m:\u001b[0m\u001b[0;34m,\u001b[0m\u001b[0;34m'surfc1'\u001b[0m\u001b[0;34m]\u001b[0m\u001b[0;34m.\u001b[0m\u001b[0mdropna\u001b[0m\u001b[0;34m(\u001b[0m\u001b[0;34m)\u001b[0m\u001b[0;34m,\u001b[0m\u001b[0;34m\u001b[0m\u001b[0m\n\u001b[1;32m      6\u001b[0m         \u001b[0mcolorscale\u001b[0m\u001b[0;34m=\u001b[0m\u001b[0mpl_bone\u001b[0m\u001b[0;34m,\u001b[0m\u001b[0;34m\u001b[0m\u001b[0m\n",
      "\u001b[0;31mAttributeError\u001b[0m: 'Grid' object has no attribute 'loc'"
     ]
    }
   ],
   "source": [
    "data=[\n",
    "    dict(\n",
    "        type='surface', \n",
    "        zsrc=grid.loc[:,'z1'].dropna(),\n",
    "        surfacecolorsrc=grid.loc[:,'surfc1'].dropna(),\n",
    "        colorscale=pl_bone,\n",
    "        colorbar=dict(thickness=20, ticklen=4)\n",
    "    )\n",
    "]\n",
    "\n",
    "frames=[]\n",
    "for k in range(nr_frames):\n",
    "    frames.append(\n",
    "        dict(\n",
    "            data=[dict(zsrc=grid.loc[:,'z{}'.format(k + 1)].dropna(),\n",
    "                       surfacecolorsrc=grid.loc[:,'surfc{}'.format(k + 1)].dropna())],\n",
    "            name='frame{}'.format(k + 1)\n",
    "        )\n",
    "    )\n",
    "\n",
    "sliders=[\n",
    "    dict(\n",
    "        steps=[dict(method='animate',\n",
    "                    args= [['frame{}'.format(k + 1)],\n",
    "                            dict(mode='immediate',\n",
    "                                 frame= dict(duration=70, redraw= False),\n",
    "                                 transition=dict(duration=0))],\n",
    "                    label='{:d}'.format(k+1)) for k in range(61)], \n",
    "        transition= dict(duration=0),\n",
    "        x=0,\n",
    "        y=0, \n",
    "        currentvalue=dict(font=dict(size=12), \n",
    "                          prefix='slice: ', \n",
    "                          visible=True, \n",
    "                          xanchor='center'\n",
    "                         ),  \n",
    "        len=1.0\n",
    "    )\n",
    "]\n",
    "\n",
    "axis3d = dict(\n",
    "    showbackground=True, \n",
    "    backgroundcolor=\"rgb(230, 230,230)\",\n",
    "    gridcolor=\"rgb(255, 255, 255)\",      \n",
    "    zerolinecolor=\"rgb(255, 255, 255)\",  \n",
    ")\n",
    "\n",
    "layout3d = dict(\n",
    "         title='Slices in volumetric data', \n",
    "         font=dict(family='Balto'),\n",
    "         width=600,\n",
    "         height=600,\n",
    "         scene=dict(xaxis=(axis3d),\n",
    "                    yaxis=(axis3d), \n",
    "                    zaxis=dict(axis3d, **dict(range=[-0.1, 6.8], autorange=False)), \n",
    "                    aspectratio=dict(x=1, y=1, z=1),\n",
    "                    ),\n",
    "         updatemenus=[\n",
    "             dict(type='buttons',\n",
    "                  showactive=False,\n",
    "                  y=1,\n",
    "                  x=1.3,\n",
    "                  xanchor='right',\n",
    "                  yanchor='top',\n",
    "                  pad=dict(t=0, r=10),\n",
    "                  buttons=[dict(label='Play',\n",
    "                                method='animate',\n",
    "                                args=[\n",
    "                                    None, \n",
    "                                    dict(frame=dict(duration=70, redraw=False),\n",
    "                                         transition=dict(duration=0),\n",
    "                                         fromcurrent=True,\n",
    "                                         mode='immediate')\n",
    "                                ])])\n",
    "         ],\n",
    "        sliders=sliders\n",
    ")"
   ]
  },
  {
   "cell_type": "code",
   "execution_count": 52,
   "metadata": {},
   "outputs": [],
   "source": [
    "data=[\n",
    "    go.Surface(\n",
    "        zsrc=grid.get_column_reference('z1'),\n",
    "        surfacecolorsrc=grid.get_column_reference('surfc1'),\n",
    "        colorscale=pl_bone,\n",
    "        colorbar=dict(thickness=20, ticklen=4)\n",
    "    )\n",
    "]\n",
    "\n",
    "frames=[]\n",
    "for k in range(nr_frames):\n",
    "    frames.append(\n",
    "        dict(\n",
    "            data=[go.Surface(zsrc=grid.get_column_reference('z{}'.format(k + 1)),\n",
    "                       surfacecolorsrc=grid.get_column_reference('surfc{}'.format(k + 1)))],\n",
    "            name='frame{}'.format(k + 1)\n",
    "        )\n",
    "    )\n",
    "\n",
    "sliders=[\n",
    "    dict(\n",
    "        steps=[dict(method='animate',\n",
    "                    args= [['frame{}'.format(k + 1)],\n",
    "                            dict(mode='immediate',\n",
    "                                 frame= dict(duration=70, redraw= False),\n",
    "                                 transition=dict(duration=0))],\n",
    "                    label='{:d}'.format(k+1)) for k in range(68)], \n",
    "        transition= dict(duration=0),\n",
    "        x=0,\n",
    "        y=0, \n",
    "        currentvalue=dict(font=dict(size=12), \n",
    "                          prefix='slice: ', \n",
    "                          visible=True, \n",
    "                          xanchor='center'\n",
    "                         ),  \n",
    "        len=1.0\n",
    "    )\n",
    "]\n",
    "\n",
    "axis3d = dict(\n",
    "    showbackground=True, \n",
    "    backgroundcolor=\"rgb(230, 230,230)\",\n",
    "    gridcolor=\"rgb(255, 255, 255)\",      \n",
    "    zerolinecolor=\"rgb(255, 255, 255)\",  \n",
    ")\n",
    "\n",
    "layout3d = dict(\n",
    "         title='Slices in volumetric data', \n",
    "         width=600,\n",
    "         height=600,\n",
    "         scene=dict(xaxis=(axis3d),\n",
    "                    yaxis=(axis3d), \n",
    "                    zaxis=dict(axis3d, **dict(range=[-0.1, 6.8], autorange=False)), \n",
    "                    aspectratio=dict(x=1, y=1, z=1),\n",
    "                    ),\n",
    "         updatemenus=[\n",
    "             dict(type='buttons',\n",
    "                  showactive=False,\n",
    "                  y=1,\n",
    "                  x=1.3,\n",
    "                  xanchor='right',\n",
    "                  yanchor='top',\n",
    "                  pad=dict(t=0, r=10),\n",
    "                  buttons=[dict(label='Play',\n",
    "                                method='animate',\n",
    "                                args=[\n",
    "                                    None, \n",
    "                                    dict(frame=dict(duration=70, redraw=False),\n",
    "                                         transition=dict(duration=0),\n",
    "                                         fromcurrent=True,\n",
    "                                         mode='immediate')\n",
    "                                ])])\n",
    "         ],\n",
    "        sliders=sliders\n",
    ")"
   ]
  },
  {
   "cell_type": "code",
   "execution_count": 53,
   "metadata": {},
   "outputs": [
    {
     "data": {
      "application/vnd.plotly.v1+json": {
       "config": {
        "linkText": "Export to plot.ly",
        "plotlyServerURL": "https://plot.ly",
        "responsive": true,
        "showLink": false
       },
       "data": [
        {
         "colorbar": {
          "thickness": 20,
          "ticklen": 4
         },
         "colorscale": [
          [
           0,
           "rgb(0, 0, 0)"
          ],
          [
           0.05,
           "rgb(10, 10, 14)"
          ],
          [
           0.1,
           "rgb(21, 21, 30)"
          ],
          [
           0.15,
           "rgb(33, 33, 46)"
          ],
          [
           0.2,
           "rgb(44, 44, 62)"
          ],
          [
           0.25,
           "rgb(56, 55, 77)"
          ],
          [
           0.3,
           "rgb(66, 66, 92)"
          ],
          [
           0.35,
           "rgb(77, 77, 108)"
          ],
          [
           0.4,
           "rgb(89, 92, 121)"
          ],
          [
           0.45,
           "rgb(100, 107, 132)"
          ],
          [
           0.5,
           "rgb(112, 123, 143)"
          ],
          [
           0.55,
           "rgb(122, 137, 154)"
          ],
          [
           0.6,
           "rgb(133, 153, 165)"
          ],
          [
           0.65,
           "rgb(145, 169, 177)"
          ],
          [
           0.7,
           "rgb(156, 184, 188)"
          ],
          [
           0.75,
           "rgb(168, 199, 199)"
          ],
          [
           0.8,
           "rgb(185, 210, 210)"
          ],
          [
           0.85,
           "rgb(203, 221, 221)"
          ],
          [
           0.9,
           "rgb(220, 233, 233)"
          ],
          [
           0.95,
           "rgb(238, 244, 244)"
          ],
          [
           1,
           "rgb(255, 255, 255)"
          ]
         ],
         "surfacecolorsrc": "",
         "type": "surface",
         "uid": "ec437b18-c276-49fd-bf64-b9a1cc4ff017",
         "zsrc": ""
        }
       ],
       "frames": [
        {
         "data": [
          {
           "surfacecolorsrc": "",
           "type": "surface",
           "zsrc": ""
          }
         ],
         "name": "frame1"
        },
        {
         "data": [
          {
           "surfacecolorsrc": "",
           "type": "surface",
           "zsrc": ""
          }
         ],
         "name": "frame2"
        },
        {
         "data": [
          {
           "surfacecolorsrc": "",
           "type": "surface",
           "zsrc": ""
          }
         ],
         "name": "frame3"
        },
        {
         "data": [
          {
           "surfacecolorsrc": "",
           "type": "surface",
           "zsrc": ""
          }
         ],
         "name": "frame4"
        },
        {
         "data": [
          {
           "surfacecolorsrc": "",
           "type": "surface",
           "zsrc": ""
          }
         ],
         "name": "frame5"
        },
        {
         "data": [
          {
           "surfacecolorsrc": "",
           "type": "surface",
           "zsrc": ""
          }
         ],
         "name": "frame6"
        },
        {
         "data": [
          {
           "surfacecolorsrc": "",
           "type": "surface",
           "zsrc": ""
          }
         ],
         "name": "frame7"
        },
        {
         "data": [
          {
           "surfacecolorsrc": "",
           "type": "surface",
           "zsrc": ""
          }
         ],
         "name": "frame8"
        },
        {
         "data": [
          {
           "surfacecolorsrc": "",
           "type": "surface",
           "zsrc": ""
          }
         ],
         "name": "frame9"
        },
        {
         "data": [
          {
           "surfacecolorsrc": "",
           "type": "surface",
           "zsrc": ""
          }
         ],
         "name": "frame10"
        },
        {
         "data": [
          {
           "surfacecolorsrc": "",
           "type": "surface",
           "zsrc": ""
          }
         ],
         "name": "frame11"
        },
        {
         "data": [
          {
           "surfacecolorsrc": "",
           "type": "surface",
           "zsrc": ""
          }
         ],
         "name": "frame12"
        },
        {
         "data": [
          {
           "surfacecolorsrc": "",
           "type": "surface",
           "zsrc": ""
          }
         ],
         "name": "frame13"
        },
        {
         "data": [
          {
           "surfacecolorsrc": "",
           "type": "surface",
           "zsrc": ""
          }
         ],
         "name": "frame14"
        },
        {
         "data": [
          {
           "surfacecolorsrc": "",
           "type": "surface",
           "zsrc": ""
          }
         ],
         "name": "frame15"
        },
        {
         "data": [
          {
           "surfacecolorsrc": "",
           "type": "surface",
           "zsrc": ""
          }
         ],
         "name": "frame16"
        },
        {
         "data": [
          {
           "surfacecolorsrc": "",
           "type": "surface",
           "zsrc": ""
          }
         ],
         "name": "frame17"
        },
        {
         "data": [
          {
           "surfacecolorsrc": "",
           "type": "surface",
           "zsrc": ""
          }
         ],
         "name": "frame18"
        },
        {
         "data": [
          {
           "surfacecolorsrc": "",
           "type": "surface",
           "zsrc": ""
          }
         ],
         "name": "frame19"
        },
        {
         "data": [
          {
           "surfacecolorsrc": "",
           "type": "surface",
           "zsrc": ""
          }
         ],
         "name": "frame20"
        },
        {
         "data": [
          {
           "surfacecolorsrc": "",
           "type": "surface",
           "zsrc": ""
          }
         ],
         "name": "frame21"
        },
        {
         "data": [
          {
           "surfacecolorsrc": "",
           "type": "surface",
           "zsrc": ""
          }
         ],
         "name": "frame22"
        },
        {
         "data": [
          {
           "surfacecolorsrc": "",
           "type": "surface",
           "zsrc": ""
          }
         ],
         "name": "frame23"
        },
        {
         "data": [
          {
           "surfacecolorsrc": "",
           "type": "surface",
           "zsrc": ""
          }
         ],
         "name": "frame24"
        },
        {
         "data": [
          {
           "surfacecolorsrc": "",
           "type": "surface",
           "zsrc": ""
          }
         ],
         "name": "frame25"
        },
        {
         "data": [
          {
           "surfacecolorsrc": "",
           "type": "surface",
           "zsrc": ""
          }
         ],
         "name": "frame26"
        },
        {
         "data": [
          {
           "surfacecolorsrc": "",
           "type": "surface",
           "zsrc": ""
          }
         ],
         "name": "frame27"
        },
        {
         "data": [
          {
           "surfacecolorsrc": "",
           "type": "surface",
           "zsrc": ""
          }
         ],
         "name": "frame28"
        },
        {
         "data": [
          {
           "surfacecolorsrc": "",
           "type": "surface",
           "zsrc": ""
          }
         ],
         "name": "frame29"
        },
        {
         "data": [
          {
           "surfacecolorsrc": "",
           "type": "surface",
           "zsrc": ""
          }
         ],
         "name": "frame30"
        },
        {
         "data": [
          {
           "surfacecolorsrc": "",
           "type": "surface",
           "zsrc": ""
          }
         ],
         "name": "frame31"
        },
        {
         "data": [
          {
           "surfacecolorsrc": "",
           "type": "surface",
           "zsrc": ""
          }
         ],
         "name": "frame32"
        },
        {
         "data": [
          {
           "surfacecolorsrc": "",
           "type": "surface",
           "zsrc": ""
          }
         ],
         "name": "frame33"
        },
        {
         "data": [
          {
           "surfacecolorsrc": "",
           "type": "surface",
           "zsrc": ""
          }
         ],
         "name": "frame34"
        },
        {
         "data": [
          {
           "surfacecolorsrc": "",
           "type": "surface",
           "zsrc": ""
          }
         ],
         "name": "frame35"
        },
        {
         "data": [
          {
           "surfacecolorsrc": "",
           "type": "surface",
           "zsrc": ""
          }
         ],
         "name": "frame36"
        },
        {
         "data": [
          {
           "surfacecolorsrc": "",
           "type": "surface",
           "zsrc": ""
          }
         ],
         "name": "frame37"
        },
        {
         "data": [
          {
           "surfacecolorsrc": "",
           "type": "surface",
           "zsrc": ""
          }
         ],
         "name": "frame38"
        },
        {
         "data": [
          {
           "surfacecolorsrc": "",
           "type": "surface",
           "zsrc": ""
          }
         ],
         "name": "frame39"
        },
        {
         "data": [
          {
           "surfacecolorsrc": "",
           "type": "surface",
           "zsrc": ""
          }
         ],
         "name": "frame40"
        },
        {
         "data": [
          {
           "surfacecolorsrc": "",
           "type": "surface",
           "zsrc": ""
          }
         ],
         "name": "frame41"
        },
        {
         "data": [
          {
           "surfacecolorsrc": "",
           "type": "surface",
           "zsrc": ""
          }
         ],
         "name": "frame42"
        },
        {
         "data": [
          {
           "surfacecolorsrc": "",
           "type": "surface",
           "zsrc": ""
          }
         ],
         "name": "frame43"
        },
        {
         "data": [
          {
           "surfacecolorsrc": "",
           "type": "surface",
           "zsrc": ""
          }
         ],
         "name": "frame44"
        },
        {
         "data": [
          {
           "surfacecolorsrc": "",
           "type": "surface",
           "zsrc": ""
          }
         ],
         "name": "frame45"
        },
        {
         "data": [
          {
           "surfacecolorsrc": "",
           "type": "surface",
           "zsrc": ""
          }
         ],
         "name": "frame46"
        },
        {
         "data": [
          {
           "surfacecolorsrc": "",
           "type": "surface",
           "zsrc": ""
          }
         ],
         "name": "frame47"
        },
        {
         "data": [
          {
           "surfacecolorsrc": "",
           "type": "surface",
           "zsrc": ""
          }
         ],
         "name": "frame48"
        },
        {
         "data": [
          {
           "surfacecolorsrc": "",
           "type": "surface",
           "zsrc": ""
          }
         ],
         "name": "frame49"
        },
        {
         "data": [
          {
           "surfacecolorsrc": "",
           "type": "surface",
           "zsrc": ""
          }
         ],
         "name": "frame50"
        },
        {
         "data": [
          {
           "surfacecolorsrc": "",
           "type": "surface",
           "zsrc": ""
          }
         ],
         "name": "frame51"
        },
        {
         "data": [
          {
           "surfacecolorsrc": "",
           "type": "surface",
           "zsrc": ""
          }
         ],
         "name": "frame52"
        },
        {
         "data": [
          {
           "surfacecolorsrc": "",
           "type": "surface",
           "zsrc": ""
          }
         ],
         "name": "frame53"
        },
        {
         "data": [
          {
           "surfacecolorsrc": "",
           "type": "surface",
           "zsrc": ""
          }
         ],
         "name": "frame54"
        },
        {
         "data": [
          {
           "surfacecolorsrc": "",
           "type": "surface",
           "zsrc": ""
          }
         ],
         "name": "frame55"
        },
        {
         "data": [
          {
           "surfacecolorsrc": "",
           "type": "surface",
           "zsrc": ""
          }
         ],
         "name": "frame56"
        },
        {
         "data": [
          {
           "surfacecolorsrc": "",
           "type": "surface",
           "zsrc": ""
          }
         ],
         "name": "frame57"
        },
        {
         "data": [
          {
           "surfacecolorsrc": "",
           "type": "surface",
           "zsrc": ""
          }
         ],
         "name": "frame58"
        },
        {
         "data": [
          {
           "surfacecolorsrc": "",
           "type": "surface",
           "zsrc": ""
          }
         ],
         "name": "frame59"
        },
        {
         "data": [
          {
           "surfacecolorsrc": "",
           "type": "surface",
           "zsrc": ""
          }
         ],
         "name": "frame60"
        },
        {
         "data": [
          {
           "surfacecolorsrc": "",
           "type": "surface",
           "zsrc": ""
          }
         ],
         "name": "frame61"
        },
        {
         "data": [
          {
           "surfacecolorsrc": "",
           "type": "surface",
           "zsrc": ""
          }
         ],
         "name": "frame62"
        },
        {
         "data": [
          {
           "surfacecolorsrc": "",
           "type": "surface",
           "zsrc": ""
          }
         ],
         "name": "frame63"
        },
        {
         "data": [
          {
           "surfacecolorsrc": "",
           "type": "surface",
           "zsrc": ""
          }
         ],
         "name": "frame64"
        },
        {
         "data": [
          {
           "surfacecolorsrc": "",
           "type": "surface",
           "zsrc": ""
          }
         ],
         "name": "frame65"
        },
        {
         "data": [
          {
           "surfacecolorsrc": "",
           "type": "surface",
           "zsrc": ""
          }
         ],
         "name": "frame66"
        },
        {
         "data": [
          {
           "surfacecolorsrc": "",
           "type": "surface",
           "zsrc": ""
          }
         ],
         "name": "frame67"
        },
        {
         "data": [
          {
           "surfacecolorsrc": "",
           "type": "surface",
           "zsrc": ""
          }
         ],
         "name": "frame68"
        }
       ],
       "layout": {
        "height": 600,
        "scene": {
         "aspectratio": {
          "x": 1,
          "y": 1,
          "z": 1
         },
         "xaxis": {
          "backgroundcolor": "rgb(230, 230,230)",
          "gridcolor": "rgb(255, 255, 255)",
          "showbackground": true,
          "zerolinecolor": "rgb(255, 255, 255)"
         },
         "yaxis": {
          "backgroundcolor": "rgb(230, 230,230)",
          "gridcolor": "rgb(255, 255, 255)",
          "showbackground": true,
          "zerolinecolor": "rgb(255, 255, 255)"
         },
         "zaxis": {
          "autorange": true,
          "backgroundcolor": "rgb(230, 230,230)",
          "gridcolor": "rgb(255, 255, 255)",
          "range": [
           -0.1,
           6.8
          ],
          "showbackground": true,
          "zerolinecolor": "rgb(255, 255, 255)"
         }
        },
        "sliders": [
         {
          "currentvalue": {
           "font": {
            "size": 12
           },
           "prefix": "slice: ",
           "visible": true,
           "xanchor": "center"
          },
          "len": 1,
          "steps": [
           {
            "args": [
             [
              "frame1"
             ],
             {
              "frame": {
               "duration": 70,
               "redraw": false
              },
              "mode": "immediate",
              "transition": {
               "duration": 0
              }
             }
            ],
            "label": "1",
            "method": "animate"
           },
           {
            "args": [
             [
              "frame2"
             ],
             {
              "frame": {
               "duration": 70,
               "redraw": false
              },
              "mode": "immediate",
              "transition": {
               "duration": 0
              }
             }
            ],
            "label": "2",
            "method": "animate"
           },
           {
            "args": [
             [
              "frame3"
             ],
             {
              "frame": {
               "duration": 70,
               "redraw": false
              },
              "mode": "immediate",
              "transition": {
               "duration": 0
              }
             }
            ],
            "label": "3",
            "method": "animate"
           },
           {
            "args": [
             [
              "frame4"
             ],
             {
              "frame": {
               "duration": 70,
               "redraw": false
              },
              "mode": "immediate",
              "transition": {
               "duration": 0
              }
             }
            ],
            "label": "4",
            "method": "animate"
           },
           {
            "args": [
             [
              "frame5"
             ],
             {
              "frame": {
               "duration": 70,
               "redraw": false
              },
              "mode": "immediate",
              "transition": {
               "duration": 0
              }
             }
            ],
            "label": "5",
            "method": "animate"
           },
           {
            "args": [
             [
              "frame6"
             ],
             {
              "frame": {
               "duration": 70,
               "redraw": false
              },
              "mode": "immediate",
              "transition": {
               "duration": 0
              }
             }
            ],
            "label": "6",
            "method": "animate"
           },
           {
            "args": [
             [
              "frame7"
             ],
             {
              "frame": {
               "duration": 70,
               "redraw": false
              },
              "mode": "immediate",
              "transition": {
               "duration": 0
              }
             }
            ],
            "label": "7",
            "method": "animate"
           },
           {
            "args": [
             [
              "frame8"
             ],
             {
              "frame": {
               "duration": 70,
               "redraw": false
              },
              "mode": "immediate",
              "transition": {
               "duration": 0
              }
             }
            ],
            "label": "8",
            "method": "animate"
           },
           {
            "args": [
             [
              "frame9"
             ],
             {
              "frame": {
               "duration": 70,
               "redraw": false
              },
              "mode": "immediate",
              "transition": {
               "duration": 0
              }
             }
            ],
            "label": "9",
            "method": "animate"
           },
           {
            "args": [
             [
              "frame10"
             ],
             {
              "frame": {
               "duration": 70,
               "redraw": false
              },
              "mode": "immediate",
              "transition": {
               "duration": 0
              }
             }
            ],
            "label": "10",
            "method": "animate"
           },
           {
            "args": [
             [
              "frame11"
             ],
             {
              "frame": {
               "duration": 70,
               "redraw": false
              },
              "mode": "immediate",
              "transition": {
               "duration": 0
              }
             }
            ],
            "label": "11",
            "method": "animate"
           },
           {
            "args": [
             [
              "frame12"
             ],
             {
              "frame": {
               "duration": 70,
               "redraw": false
              },
              "mode": "immediate",
              "transition": {
               "duration": 0
              }
             }
            ],
            "label": "12",
            "method": "animate"
           },
           {
            "args": [
             [
              "frame13"
             ],
             {
              "frame": {
               "duration": 70,
               "redraw": false
              },
              "mode": "immediate",
              "transition": {
               "duration": 0
              }
             }
            ],
            "label": "13",
            "method": "animate"
           },
           {
            "args": [
             [
              "frame14"
             ],
             {
              "frame": {
               "duration": 70,
               "redraw": false
              },
              "mode": "immediate",
              "transition": {
               "duration": 0
              }
             }
            ],
            "label": "14",
            "method": "animate"
           },
           {
            "args": [
             [
              "frame15"
             ],
             {
              "frame": {
               "duration": 70,
               "redraw": false
              },
              "mode": "immediate",
              "transition": {
               "duration": 0
              }
             }
            ],
            "label": "15",
            "method": "animate"
           },
           {
            "args": [
             [
              "frame16"
             ],
             {
              "frame": {
               "duration": 70,
               "redraw": false
              },
              "mode": "immediate",
              "transition": {
               "duration": 0
              }
             }
            ],
            "label": "16",
            "method": "animate"
           },
           {
            "args": [
             [
              "frame17"
             ],
             {
              "frame": {
               "duration": 70,
               "redraw": false
              },
              "mode": "immediate",
              "transition": {
               "duration": 0
              }
             }
            ],
            "label": "17",
            "method": "animate"
           },
           {
            "args": [
             [
              "frame18"
             ],
             {
              "frame": {
               "duration": 70,
               "redraw": false
              },
              "mode": "immediate",
              "transition": {
               "duration": 0
              }
             }
            ],
            "label": "18",
            "method": "animate"
           },
           {
            "args": [
             [
              "frame19"
             ],
             {
              "frame": {
               "duration": 70,
               "redraw": false
              },
              "mode": "immediate",
              "transition": {
               "duration": 0
              }
             }
            ],
            "label": "19",
            "method": "animate"
           },
           {
            "args": [
             [
              "frame20"
             ],
             {
              "frame": {
               "duration": 70,
               "redraw": false
              },
              "mode": "immediate",
              "transition": {
               "duration": 0
              }
             }
            ],
            "label": "20",
            "method": "animate"
           },
           {
            "args": [
             [
              "frame21"
             ],
             {
              "frame": {
               "duration": 70,
               "redraw": false
              },
              "mode": "immediate",
              "transition": {
               "duration": 0
              }
             }
            ],
            "label": "21",
            "method": "animate"
           },
           {
            "args": [
             [
              "frame22"
             ],
             {
              "frame": {
               "duration": 70,
               "redraw": false
              },
              "mode": "immediate",
              "transition": {
               "duration": 0
              }
             }
            ],
            "label": "22",
            "method": "animate"
           },
           {
            "args": [
             [
              "frame23"
             ],
             {
              "frame": {
               "duration": 70,
               "redraw": false
              },
              "mode": "immediate",
              "transition": {
               "duration": 0
              }
             }
            ],
            "label": "23",
            "method": "animate"
           },
           {
            "args": [
             [
              "frame24"
             ],
             {
              "frame": {
               "duration": 70,
               "redraw": false
              },
              "mode": "immediate",
              "transition": {
               "duration": 0
              }
             }
            ],
            "label": "24",
            "method": "animate"
           },
           {
            "args": [
             [
              "frame25"
             ],
             {
              "frame": {
               "duration": 70,
               "redraw": false
              },
              "mode": "immediate",
              "transition": {
               "duration": 0
              }
             }
            ],
            "label": "25",
            "method": "animate"
           },
           {
            "args": [
             [
              "frame26"
             ],
             {
              "frame": {
               "duration": 70,
               "redraw": false
              },
              "mode": "immediate",
              "transition": {
               "duration": 0
              }
             }
            ],
            "label": "26",
            "method": "animate"
           },
           {
            "args": [
             [
              "frame27"
             ],
             {
              "frame": {
               "duration": 70,
               "redraw": false
              },
              "mode": "immediate",
              "transition": {
               "duration": 0
              }
             }
            ],
            "label": "27",
            "method": "animate"
           },
           {
            "args": [
             [
              "frame28"
             ],
             {
              "frame": {
               "duration": 70,
               "redraw": false
              },
              "mode": "immediate",
              "transition": {
               "duration": 0
              }
             }
            ],
            "label": "28",
            "method": "animate"
           },
           {
            "args": [
             [
              "frame29"
             ],
             {
              "frame": {
               "duration": 70,
               "redraw": false
              },
              "mode": "immediate",
              "transition": {
               "duration": 0
              }
             }
            ],
            "label": "29",
            "method": "animate"
           },
           {
            "args": [
             [
              "frame30"
             ],
             {
              "frame": {
               "duration": 70,
               "redraw": false
              },
              "mode": "immediate",
              "transition": {
               "duration": 0
              }
             }
            ],
            "label": "30",
            "method": "animate"
           },
           {
            "args": [
             [
              "frame31"
             ],
             {
              "frame": {
               "duration": 70,
               "redraw": false
              },
              "mode": "immediate",
              "transition": {
               "duration": 0
              }
             }
            ],
            "label": "31",
            "method": "animate"
           },
           {
            "args": [
             [
              "frame32"
             ],
             {
              "frame": {
               "duration": 70,
               "redraw": false
              },
              "mode": "immediate",
              "transition": {
               "duration": 0
              }
             }
            ],
            "label": "32",
            "method": "animate"
           },
           {
            "args": [
             [
              "frame33"
             ],
             {
              "frame": {
               "duration": 70,
               "redraw": false
              },
              "mode": "immediate",
              "transition": {
               "duration": 0
              }
             }
            ],
            "label": "33",
            "method": "animate"
           },
           {
            "args": [
             [
              "frame34"
             ],
             {
              "frame": {
               "duration": 70,
               "redraw": false
              },
              "mode": "immediate",
              "transition": {
               "duration": 0
              }
             }
            ],
            "label": "34",
            "method": "animate"
           },
           {
            "args": [
             [
              "frame35"
             ],
             {
              "frame": {
               "duration": 70,
               "redraw": false
              },
              "mode": "immediate",
              "transition": {
               "duration": 0
              }
             }
            ],
            "label": "35",
            "method": "animate"
           },
           {
            "args": [
             [
              "frame36"
             ],
             {
              "frame": {
               "duration": 70,
               "redraw": false
              },
              "mode": "immediate",
              "transition": {
               "duration": 0
              }
             }
            ],
            "label": "36",
            "method": "animate"
           },
           {
            "args": [
             [
              "frame37"
             ],
             {
              "frame": {
               "duration": 70,
               "redraw": false
              },
              "mode": "immediate",
              "transition": {
               "duration": 0
              }
             }
            ],
            "label": "37",
            "method": "animate"
           },
           {
            "args": [
             [
              "frame38"
             ],
             {
              "frame": {
               "duration": 70,
               "redraw": false
              },
              "mode": "immediate",
              "transition": {
               "duration": 0
              }
             }
            ],
            "label": "38",
            "method": "animate"
           },
           {
            "args": [
             [
              "frame39"
             ],
             {
              "frame": {
               "duration": 70,
               "redraw": false
              },
              "mode": "immediate",
              "transition": {
               "duration": 0
              }
             }
            ],
            "label": "39",
            "method": "animate"
           },
           {
            "args": [
             [
              "frame40"
             ],
             {
              "frame": {
               "duration": 70,
               "redraw": false
              },
              "mode": "immediate",
              "transition": {
               "duration": 0
              }
             }
            ],
            "label": "40",
            "method": "animate"
           },
           {
            "args": [
             [
              "frame41"
             ],
             {
              "frame": {
               "duration": 70,
               "redraw": false
              },
              "mode": "immediate",
              "transition": {
               "duration": 0
              }
             }
            ],
            "label": "41",
            "method": "animate"
           },
           {
            "args": [
             [
              "frame42"
             ],
             {
              "frame": {
               "duration": 70,
               "redraw": false
              },
              "mode": "immediate",
              "transition": {
               "duration": 0
              }
             }
            ],
            "label": "42",
            "method": "animate"
           },
           {
            "args": [
             [
              "frame43"
             ],
             {
              "frame": {
               "duration": 70,
               "redraw": false
              },
              "mode": "immediate",
              "transition": {
               "duration": 0
              }
             }
            ],
            "label": "43",
            "method": "animate"
           },
           {
            "args": [
             [
              "frame44"
             ],
             {
              "frame": {
               "duration": 70,
               "redraw": false
              },
              "mode": "immediate",
              "transition": {
               "duration": 0
              }
             }
            ],
            "label": "44",
            "method": "animate"
           },
           {
            "args": [
             [
              "frame45"
             ],
             {
              "frame": {
               "duration": 70,
               "redraw": false
              },
              "mode": "immediate",
              "transition": {
               "duration": 0
              }
             }
            ],
            "label": "45",
            "method": "animate"
           },
           {
            "args": [
             [
              "frame46"
             ],
             {
              "frame": {
               "duration": 70,
               "redraw": false
              },
              "mode": "immediate",
              "transition": {
               "duration": 0
              }
             }
            ],
            "label": "46",
            "method": "animate"
           },
           {
            "args": [
             [
              "frame47"
             ],
             {
              "frame": {
               "duration": 70,
               "redraw": false
              },
              "mode": "immediate",
              "transition": {
               "duration": 0
              }
             }
            ],
            "label": "47",
            "method": "animate"
           },
           {
            "args": [
             [
              "frame48"
             ],
             {
              "frame": {
               "duration": 70,
               "redraw": false
              },
              "mode": "immediate",
              "transition": {
               "duration": 0
              }
             }
            ],
            "label": "48",
            "method": "animate"
           },
           {
            "args": [
             [
              "frame49"
             ],
             {
              "frame": {
               "duration": 70,
               "redraw": false
              },
              "mode": "immediate",
              "transition": {
               "duration": 0
              }
             }
            ],
            "label": "49",
            "method": "animate"
           },
           {
            "args": [
             [
              "frame50"
             ],
             {
              "frame": {
               "duration": 70,
               "redraw": false
              },
              "mode": "immediate",
              "transition": {
               "duration": 0
              }
             }
            ],
            "label": "50",
            "method": "animate"
           },
           {
            "args": [
             [
              "frame51"
             ],
             {
              "frame": {
               "duration": 70,
               "redraw": false
              },
              "mode": "immediate",
              "transition": {
               "duration": 0
              }
             }
            ],
            "label": "51",
            "method": "animate"
           },
           {
            "args": [
             [
              "frame52"
             ],
             {
              "frame": {
               "duration": 70,
               "redraw": false
              },
              "mode": "immediate",
              "transition": {
               "duration": 0
              }
             }
            ],
            "label": "52",
            "method": "animate"
           },
           {
            "args": [
             [
              "frame53"
             ],
             {
              "frame": {
               "duration": 70,
               "redraw": false
              },
              "mode": "immediate",
              "transition": {
               "duration": 0
              }
             }
            ],
            "label": "53",
            "method": "animate"
           },
           {
            "args": [
             [
              "frame54"
             ],
             {
              "frame": {
               "duration": 70,
               "redraw": false
              },
              "mode": "immediate",
              "transition": {
               "duration": 0
              }
             }
            ],
            "label": "54",
            "method": "animate"
           },
           {
            "args": [
             [
              "frame55"
             ],
             {
              "frame": {
               "duration": 70,
               "redraw": false
              },
              "mode": "immediate",
              "transition": {
               "duration": 0
              }
             }
            ],
            "label": "55",
            "method": "animate"
           },
           {
            "args": [
             [
              "frame56"
             ],
             {
              "frame": {
               "duration": 70,
               "redraw": false
              },
              "mode": "immediate",
              "transition": {
               "duration": 0
              }
             }
            ],
            "label": "56",
            "method": "animate"
           },
           {
            "args": [
             [
              "frame57"
             ],
             {
              "frame": {
               "duration": 70,
               "redraw": false
              },
              "mode": "immediate",
              "transition": {
               "duration": 0
              }
             }
            ],
            "label": "57",
            "method": "animate"
           },
           {
            "args": [
             [
              "frame58"
             ],
             {
              "frame": {
               "duration": 70,
               "redraw": false
              },
              "mode": "immediate",
              "transition": {
               "duration": 0
              }
             }
            ],
            "label": "58",
            "method": "animate"
           },
           {
            "args": [
             [
              "frame59"
             ],
             {
              "frame": {
               "duration": 70,
               "redraw": false
              },
              "mode": "immediate",
              "transition": {
               "duration": 0
              }
             }
            ],
            "label": "59",
            "method": "animate"
           },
           {
            "args": [
             [
              "frame60"
             ],
             {
              "frame": {
               "duration": 70,
               "redraw": false
              },
              "mode": "immediate",
              "transition": {
               "duration": 0
              }
             }
            ],
            "label": "60",
            "method": "animate"
           },
           {
            "args": [
             [
              "frame61"
             ],
             {
              "frame": {
               "duration": 70,
               "redraw": false
              },
              "mode": "immediate",
              "transition": {
               "duration": 0
              }
             }
            ],
            "label": "61",
            "method": "animate"
           },
           {
            "args": [
             [
              "frame62"
             ],
             {
              "frame": {
               "duration": 70,
               "redraw": false
              },
              "mode": "immediate",
              "transition": {
               "duration": 0
              }
             }
            ],
            "label": "62",
            "method": "animate"
           },
           {
            "args": [
             [
              "frame63"
             ],
             {
              "frame": {
               "duration": 70,
               "redraw": false
              },
              "mode": "immediate",
              "transition": {
               "duration": 0
              }
             }
            ],
            "label": "63",
            "method": "animate"
           },
           {
            "args": [
             [
              "frame64"
             ],
             {
              "frame": {
               "duration": 70,
               "redraw": false
              },
              "mode": "immediate",
              "transition": {
               "duration": 0
              }
             }
            ],
            "label": "64",
            "method": "animate"
           },
           {
            "args": [
             [
              "frame65"
             ],
             {
              "frame": {
               "duration": 70,
               "redraw": false
              },
              "mode": "immediate",
              "transition": {
               "duration": 0
              }
             }
            ],
            "label": "65",
            "method": "animate"
           },
           {
            "args": [
             [
              "frame66"
             ],
             {
              "frame": {
               "duration": 70,
               "redraw": false
              },
              "mode": "immediate",
              "transition": {
               "duration": 0
              }
             }
            ],
            "label": "66",
            "method": "animate"
           },
           {
            "args": [
             [
              "frame67"
             ],
             {
              "frame": {
               "duration": 70,
               "redraw": false
              },
              "mode": "immediate",
              "transition": {
               "duration": 0
              }
             }
            ],
            "label": "67",
            "method": "animate"
           },
           {
            "args": [
             [
              "frame68"
             ],
             {
              "frame": {
               "duration": 70,
               "redraw": false
              },
              "mode": "immediate",
              "transition": {
               "duration": 0
              }
             }
            ],
            "label": "68",
            "method": "animate"
           }
          ],
          "transition": {
           "duration": 0
          },
          "x": 0,
          "y": 0
         }
        ],
        "title": {
         "text": "Slices in volumetric data"
        },
        "updatemenus": [
         {
          "buttons": [
           {
            "args": [
             null,
             {
              "frame": {
               "duration": 70,
               "redraw": false
              },
              "fromcurrent": true,
              "mode": "immediate",
              "transition": {
               "duration": 0
              }
             }
            ],
            "label": "Play",
            "method": "animate"
           }
          ],
          "pad": {
           "r": 10,
           "t": 0
          },
          "showactive": false,
          "type": "buttons",
          "x": 1.3,
          "xanchor": "right",
          "y": 1,
          "yanchor": "top"
         }
        ],
        "width": 600
       }
      },
      "text/html": [
       "<div>\n",
       "        \n",
       "        \n",
       "            <div id=\"74f5dbb2-d297-4cf9-b74b-4687660d9ff5\" class=\"plotly-graph-div\" style=\"height:600px; width:600px;\"></div>\n",
       "            <script type=\"text/javascript\">\n",
       "                require([\"plotly\"], function(Plotly) {\n",
       "                    window.PLOTLYENV=window.PLOTLYENV || {};\n",
       "                    window.PLOTLYENV.BASE_URL='https://plot.ly';\n",
       "                    \n",
       "                if (document.getElementById(\"74f5dbb2-d297-4cf9-b74b-4687660d9ff5\")) {\n",
       "                    Plotly.newPlot(\n",
       "                        '74f5dbb2-d297-4cf9-b74b-4687660d9ff5',\n",
       "                        [{\"colorbar\": {\"thickness\": 20, \"ticklen\": 4}, \"colorscale\": [[0.0, \"rgb(0, 0, 0)\"], [0.05, \"rgb(10, 10, 14)\"], [0.1, \"rgb(21, 21, 30)\"], [0.15, \"rgb(33, 33, 46)\"], [0.2, \"rgb(44, 44, 62)\"], [0.25, \"rgb(56, 55, 77)\"], [0.3, \"rgb(66, 66, 92)\"], [0.35, \"rgb(77, 77, 108)\"], [0.4, \"rgb(89, 92, 121)\"], [0.45, \"rgb(100, 107, 132)\"], [0.5, \"rgb(112, 123, 143)\"], [0.55, \"rgb(122, 137, 154)\"], [0.6, \"rgb(133, 153, 165)\"], [0.65, \"rgb(145, 169, 177)\"], [0.7, \"rgb(156, 184, 188)\"], [0.75, \"rgb(168, 199, 199)\"], [0.8, \"rgb(185, 210, 210)\"], [0.85, \"rgb(203, 221, 221)\"], [0.9, \"rgb(220, 233, 233)\"], [0.95, \"rgb(238, 244, 244)\"], [1.0, \"rgb(255, 255, 255)\"]], \"surfacecolorsrc\": \"\", \"type\": \"surface\", \"uid\": \"b0184fe1-77aa-4adc-91ac-242248d724b2\", \"zsrc\": \"\"}],\n",
       "                        {\"height\": 600, \"scene\": {\"aspectratio\": {\"x\": 1, \"y\": 1, \"z\": 1}, \"xaxis\": {\"backgroundcolor\": \"rgb(230, 230,230)\", \"gridcolor\": \"rgb(255, 255, 255)\", \"showbackground\": true, \"zerolinecolor\": \"rgb(255, 255, 255)\"}, \"yaxis\": {\"backgroundcolor\": \"rgb(230, 230,230)\", \"gridcolor\": \"rgb(255, 255, 255)\", \"showbackground\": true, \"zerolinecolor\": \"rgb(255, 255, 255)\"}, \"zaxis\": {\"autorange\": true, \"backgroundcolor\": \"rgb(230, 230,230)\", \"gridcolor\": \"rgb(255, 255, 255)\", \"range\": [-0.1, 6.8], \"showbackground\": true, \"zerolinecolor\": \"rgb(255, 255, 255)\"}}, \"sliders\": [{\"currentvalue\": {\"font\": {\"size\": 12}, \"prefix\": \"slice: \", \"visible\": true, \"xanchor\": \"center\"}, \"len\": 1.0, \"steps\": [{\"args\": [[\"frame1\"], {\"frame\": {\"duration\": 70, \"redraw\": false}, \"mode\": \"immediate\", \"transition\": {\"duration\": 0}}], \"label\": \"1\", \"method\": \"animate\"}, {\"args\": [[\"frame2\"], {\"frame\": {\"duration\": 70, \"redraw\": false}, \"mode\": \"immediate\", \"transition\": {\"duration\": 0}}], \"label\": \"2\", \"method\": \"animate\"}, {\"args\": [[\"frame3\"], {\"frame\": {\"duration\": 70, \"redraw\": false}, \"mode\": \"immediate\", \"transition\": {\"duration\": 0}}], \"label\": \"3\", \"method\": \"animate\"}, {\"args\": [[\"frame4\"], {\"frame\": {\"duration\": 70, \"redraw\": false}, \"mode\": \"immediate\", \"transition\": {\"duration\": 0}}], \"label\": \"4\", \"method\": \"animate\"}, {\"args\": [[\"frame5\"], {\"frame\": {\"duration\": 70, \"redraw\": false}, \"mode\": \"immediate\", \"transition\": {\"duration\": 0}}], \"label\": \"5\", \"method\": \"animate\"}, {\"args\": [[\"frame6\"], {\"frame\": {\"duration\": 70, \"redraw\": false}, \"mode\": \"immediate\", \"transition\": {\"duration\": 0}}], \"label\": \"6\", \"method\": \"animate\"}, {\"args\": [[\"frame7\"], {\"frame\": {\"duration\": 70, \"redraw\": false}, \"mode\": \"immediate\", \"transition\": {\"duration\": 0}}], \"label\": \"7\", \"method\": \"animate\"}, {\"args\": [[\"frame8\"], {\"frame\": {\"duration\": 70, \"redraw\": false}, \"mode\": \"immediate\", \"transition\": {\"duration\": 0}}], \"label\": \"8\", \"method\": \"animate\"}, {\"args\": [[\"frame9\"], {\"frame\": {\"duration\": 70, \"redraw\": false}, \"mode\": \"immediate\", \"transition\": {\"duration\": 0}}], \"label\": \"9\", \"method\": \"animate\"}, {\"args\": [[\"frame10\"], {\"frame\": {\"duration\": 70, \"redraw\": false}, \"mode\": \"immediate\", \"transition\": {\"duration\": 0}}], \"label\": \"10\", \"method\": \"animate\"}, {\"args\": [[\"frame11\"], {\"frame\": {\"duration\": 70, \"redraw\": false}, \"mode\": \"immediate\", \"transition\": {\"duration\": 0}}], \"label\": \"11\", \"method\": \"animate\"}, {\"args\": [[\"frame12\"], {\"frame\": {\"duration\": 70, \"redraw\": false}, \"mode\": \"immediate\", \"transition\": {\"duration\": 0}}], \"label\": \"12\", \"method\": \"animate\"}, {\"args\": [[\"frame13\"], {\"frame\": {\"duration\": 70, \"redraw\": false}, \"mode\": \"immediate\", \"transition\": {\"duration\": 0}}], \"label\": \"13\", \"method\": \"animate\"}, {\"args\": [[\"frame14\"], {\"frame\": {\"duration\": 70, \"redraw\": false}, \"mode\": \"immediate\", \"transition\": {\"duration\": 0}}], \"label\": \"14\", \"method\": \"animate\"}, {\"args\": [[\"frame15\"], {\"frame\": {\"duration\": 70, \"redraw\": false}, \"mode\": \"immediate\", \"transition\": {\"duration\": 0}}], \"label\": \"15\", \"method\": \"animate\"}, {\"args\": [[\"frame16\"], {\"frame\": {\"duration\": 70, \"redraw\": false}, \"mode\": \"immediate\", \"transition\": {\"duration\": 0}}], \"label\": \"16\", \"method\": \"animate\"}, {\"args\": [[\"frame17\"], {\"frame\": {\"duration\": 70, \"redraw\": false}, \"mode\": \"immediate\", \"transition\": {\"duration\": 0}}], \"label\": \"17\", \"method\": \"animate\"}, {\"args\": [[\"frame18\"], {\"frame\": {\"duration\": 70, \"redraw\": false}, \"mode\": \"immediate\", \"transition\": {\"duration\": 0}}], \"label\": \"18\", \"method\": \"animate\"}, {\"args\": [[\"frame19\"], {\"frame\": {\"duration\": 70, \"redraw\": false}, \"mode\": \"immediate\", \"transition\": {\"duration\": 0}}], \"label\": \"19\", \"method\": \"animate\"}, {\"args\": [[\"frame20\"], {\"frame\": {\"duration\": 70, \"redraw\": false}, \"mode\": \"immediate\", \"transition\": {\"duration\": 0}}], \"label\": \"20\", \"method\": \"animate\"}, {\"args\": [[\"frame21\"], {\"frame\": {\"duration\": 70, \"redraw\": false}, \"mode\": \"immediate\", \"transition\": {\"duration\": 0}}], \"label\": \"21\", \"method\": \"animate\"}, {\"args\": [[\"frame22\"], {\"frame\": {\"duration\": 70, \"redraw\": false}, \"mode\": \"immediate\", \"transition\": {\"duration\": 0}}], \"label\": \"22\", \"method\": \"animate\"}, {\"args\": [[\"frame23\"], {\"frame\": {\"duration\": 70, \"redraw\": false}, \"mode\": \"immediate\", \"transition\": {\"duration\": 0}}], \"label\": \"23\", \"method\": \"animate\"}, {\"args\": [[\"frame24\"], {\"frame\": {\"duration\": 70, \"redraw\": false}, \"mode\": \"immediate\", \"transition\": {\"duration\": 0}}], \"label\": \"24\", \"method\": \"animate\"}, {\"args\": [[\"frame25\"], {\"frame\": {\"duration\": 70, \"redraw\": false}, \"mode\": \"immediate\", \"transition\": {\"duration\": 0}}], \"label\": \"25\", \"method\": \"animate\"}, {\"args\": [[\"frame26\"], {\"frame\": {\"duration\": 70, \"redraw\": false}, \"mode\": \"immediate\", \"transition\": {\"duration\": 0}}], \"label\": \"26\", \"method\": \"animate\"}, {\"args\": [[\"frame27\"], {\"frame\": {\"duration\": 70, \"redraw\": false}, \"mode\": \"immediate\", \"transition\": {\"duration\": 0}}], \"label\": \"27\", \"method\": \"animate\"}, {\"args\": [[\"frame28\"], {\"frame\": {\"duration\": 70, \"redraw\": false}, \"mode\": \"immediate\", \"transition\": {\"duration\": 0}}], \"label\": \"28\", \"method\": \"animate\"}, {\"args\": [[\"frame29\"], {\"frame\": {\"duration\": 70, \"redraw\": false}, \"mode\": \"immediate\", \"transition\": {\"duration\": 0}}], \"label\": \"29\", \"method\": \"animate\"}, {\"args\": [[\"frame30\"], {\"frame\": {\"duration\": 70, \"redraw\": false}, \"mode\": \"immediate\", \"transition\": {\"duration\": 0}}], \"label\": \"30\", \"method\": \"animate\"}, {\"args\": [[\"frame31\"], {\"frame\": {\"duration\": 70, \"redraw\": false}, \"mode\": \"immediate\", \"transition\": {\"duration\": 0}}], \"label\": \"31\", \"method\": \"animate\"}, {\"args\": [[\"frame32\"], {\"frame\": {\"duration\": 70, \"redraw\": false}, \"mode\": \"immediate\", \"transition\": {\"duration\": 0}}], \"label\": \"32\", \"method\": \"animate\"}, {\"args\": [[\"frame33\"], {\"frame\": {\"duration\": 70, \"redraw\": false}, \"mode\": \"immediate\", \"transition\": {\"duration\": 0}}], \"label\": \"33\", \"method\": \"animate\"}, {\"args\": [[\"frame34\"], {\"frame\": {\"duration\": 70, \"redraw\": false}, \"mode\": \"immediate\", \"transition\": {\"duration\": 0}}], \"label\": \"34\", \"method\": \"animate\"}, {\"args\": [[\"frame35\"], {\"frame\": {\"duration\": 70, \"redraw\": false}, \"mode\": \"immediate\", \"transition\": {\"duration\": 0}}], \"label\": \"35\", \"method\": \"animate\"}, {\"args\": [[\"frame36\"], {\"frame\": {\"duration\": 70, \"redraw\": false}, \"mode\": \"immediate\", \"transition\": {\"duration\": 0}}], \"label\": \"36\", \"method\": \"animate\"}, {\"args\": [[\"frame37\"], {\"frame\": {\"duration\": 70, \"redraw\": false}, \"mode\": \"immediate\", \"transition\": {\"duration\": 0}}], \"label\": \"37\", \"method\": \"animate\"}, {\"args\": [[\"frame38\"], {\"frame\": {\"duration\": 70, \"redraw\": false}, \"mode\": \"immediate\", \"transition\": {\"duration\": 0}}], \"label\": \"38\", \"method\": \"animate\"}, {\"args\": [[\"frame39\"], {\"frame\": {\"duration\": 70, \"redraw\": false}, \"mode\": \"immediate\", \"transition\": {\"duration\": 0}}], \"label\": \"39\", \"method\": \"animate\"}, {\"args\": [[\"frame40\"], {\"frame\": {\"duration\": 70, \"redraw\": false}, \"mode\": \"immediate\", \"transition\": {\"duration\": 0}}], \"label\": \"40\", \"method\": \"animate\"}, {\"args\": [[\"frame41\"], {\"frame\": {\"duration\": 70, \"redraw\": false}, \"mode\": \"immediate\", \"transition\": {\"duration\": 0}}], \"label\": \"41\", \"method\": \"animate\"}, {\"args\": [[\"frame42\"], {\"frame\": {\"duration\": 70, \"redraw\": false}, \"mode\": \"immediate\", \"transition\": {\"duration\": 0}}], \"label\": \"42\", \"method\": \"animate\"}, {\"args\": [[\"frame43\"], {\"frame\": {\"duration\": 70, \"redraw\": false}, \"mode\": \"immediate\", \"transition\": {\"duration\": 0}}], \"label\": \"43\", \"method\": \"animate\"}, {\"args\": [[\"frame44\"], {\"frame\": {\"duration\": 70, \"redraw\": false}, \"mode\": \"immediate\", \"transition\": {\"duration\": 0}}], \"label\": \"44\", \"method\": \"animate\"}, {\"args\": [[\"frame45\"], {\"frame\": {\"duration\": 70, \"redraw\": false}, \"mode\": \"immediate\", \"transition\": {\"duration\": 0}}], \"label\": \"45\", \"method\": \"animate\"}, {\"args\": [[\"frame46\"], {\"frame\": {\"duration\": 70, \"redraw\": false}, \"mode\": \"immediate\", \"transition\": {\"duration\": 0}}], \"label\": \"46\", \"method\": \"animate\"}, {\"args\": [[\"frame47\"], {\"frame\": {\"duration\": 70, \"redraw\": false}, \"mode\": \"immediate\", \"transition\": {\"duration\": 0}}], \"label\": \"47\", \"method\": \"animate\"}, {\"args\": [[\"frame48\"], {\"frame\": {\"duration\": 70, \"redraw\": false}, \"mode\": \"immediate\", \"transition\": {\"duration\": 0}}], \"label\": \"48\", \"method\": \"animate\"}, {\"args\": [[\"frame49\"], {\"frame\": {\"duration\": 70, \"redraw\": false}, \"mode\": \"immediate\", \"transition\": {\"duration\": 0}}], \"label\": \"49\", \"method\": \"animate\"}, {\"args\": [[\"frame50\"], {\"frame\": {\"duration\": 70, \"redraw\": false}, \"mode\": \"immediate\", \"transition\": {\"duration\": 0}}], \"label\": \"50\", \"method\": \"animate\"}, {\"args\": [[\"frame51\"], {\"frame\": {\"duration\": 70, \"redraw\": false}, \"mode\": \"immediate\", \"transition\": {\"duration\": 0}}], \"label\": \"51\", \"method\": \"animate\"}, {\"args\": [[\"frame52\"], {\"frame\": {\"duration\": 70, \"redraw\": false}, \"mode\": \"immediate\", \"transition\": {\"duration\": 0}}], \"label\": \"52\", \"method\": \"animate\"}, {\"args\": [[\"frame53\"], {\"frame\": {\"duration\": 70, \"redraw\": false}, \"mode\": \"immediate\", \"transition\": {\"duration\": 0}}], \"label\": \"53\", \"method\": \"animate\"}, {\"args\": [[\"frame54\"], {\"frame\": {\"duration\": 70, \"redraw\": false}, \"mode\": \"immediate\", \"transition\": {\"duration\": 0}}], \"label\": \"54\", \"method\": \"animate\"}, {\"args\": [[\"frame55\"], {\"frame\": {\"duration\": 70, \"redraw\": false}, \"mode\": \"immediate\", \"transition\": {\"duration\": 0}}], \"label\": \"55\", \"method\": \"animate\"}, {\"args\": [[\"frame56\"], {\"frame\": {\"duration\": 70, \"redraw\": false}, \"mode\": \"immediate\", \"transition\": {\"duration\": 0}}], \"label\": \"56\", \"method\": \"animate\"}, {\"args\": [[\"frame57\"], {\"frame\": {\"duration\": 70, \"redraw\": false}, \"mode\": \"immediate\", \"transition\": {\"duration\": 0}}], \"label\": \"57\", \"method\": \"animate\"}, {\"args\": [[\"frame58\"], {\"frame\": {\"duration\": 70, \"redraw\": false}, \"mode\": \"immediate\", \"transition\": {\"duration\": 0}}], \"label\": \"58\", \"method\": \"animate\"}, {\"args\": [[\"frame59\"], {\"frame\": {\"duration\": 70, \"redraw\": false}, \"mode\": \"immediate\", \"transition\": {\"duration\": 0}}], \"label\": \"59\", \"method\": \"animate\"}, {\"args\": [[\"frame60\"], {\"frame\": {\"duration\": 70, \"redraw\": false}, \"mode\": \"immediate\", \"transition\": {\"duration\": 0}}], \"label\": \"60\", \"method\": \"animate\"}, {\"args\": [[\"frame61\"], {\"frame\": {\"duration\": 70, \"redraw\": false}, \"mode\": \"immediate\", \"transition\": {\"duration\": 0}}], \"label\": \"61\", \"method\": \"animate\"}, {\"args\": [[\"frame62\"], {\"frame\": {\"duration\": 70, \"redraw\": false}, \"mode\": \"immediate\", \"transition\": {\"duration\": 0}}], \"label\": \"62\", \"method\": \"animate\"}, {\"args\": [[\"frame63\"], {\"frame\": {\"duration\": 70, \"redraw\": false}, \"mode\": \"immediate\", \"transition\": {\"duration\": 0}}], \"label\": \"63\", \"method\": \"animate\"}, {\"args\": [[\"frame64\"], {\"frame\": {\"duration\": 70, \"redraw\": false}, \"mode\": \"immediate\", \"transition\": {\"duration\": 0}}], \"label\": \"64\", \"method\": \"animate\"}, {\"args\": [[\"frame65\"], {\"frame\": {\"duration\": 70, \"redraw\": false}, \"mode\": \"immediate\", \"transition\": {\"duration\": 0}}], \"label\": \"65\", \"method\": \"animate\"}, {\"args\": [[\"frame66\"], {\"frame\": {\"duration\": 70, \"redraw\": false}, \"mode\": \"immediate\", \"transition\": {\"duration\": 0}}], \"label\": \"66\", \"method\": \"animate\"}, {\"args\": [[\"frame67\"], {\"frame\": {\"duration\": 70, \"redraw\": false}, \"mode\": \"immediate\", \"transition\": {\"duration\": 0}}], \"label\": \"67\", \"method\": \"animate\"}, {\"args\": [[\"frame68\"], {\"frame\": {\"duration\": 70, \"redraw\": false}, \"mode\": \"immediate\", \"transition\": {\"duration\": 0}}], \"label\": \"68\", \"method\": \"animate\"}], \"transition\": {\"duration\": 0}, \"x\": 0, \"y\": 0}], \"title\": {\"text\": \"Slices in volumetric data\"}, \"updatemenus\": [{\"buttons\": [{\"args\": [null, {\"frame\": {\"duration\": 70, \"redraw\": false}, \"fromcurrent\": true, \"mode\": \"immediate\", \"transition\": {\"duration\": 0}}], \"label\": \"Play\", \"method\": \"animate\"}], \"pad\": {\"r\": 10, \"t\": 0}, \"showactive\": false, \"type\": \"buttons\", \"x\": 1.3, \"xanchor\": \"right\", \"y\": 1, \"yanchor\": \"top\"}], \"width\": 600},\n",
       "                        {\"showLink\": false, \"linkText\": \"Export to plot.ly\", \"plotlyServerURL\": \"https://plot.ly\", \"responsive\": true}\n",
       "                    ).then(function(){\n",
       "                            Plotly.addFrames('74f5dbb2-d297-4cf9-b74b-4687660d9ff5', [{\"data\": [{\"surfacecolorsrc\": \"\", \"zsrc\": \"\", \"type\": \"surface\"}], \"name\": \"frame1\"}, {\"data\": [{\"surfacecolorsrc\": \"\", \"zsrc\": \"\", \"type\": \"surface\"}], \"name\": \"frame2\"}, {\"data\": [{\"surfacecolorsrc\": \"\", \"zsrc\": \"\", \"type\": \"surface\"}], \"name\": \"frame3\"}, {\"data\": [{\"surfacecolorsrc\": \"\", \"zsrc\": \"\", \"type\": \"surface\"}], \"name\": \"frame4\"}, {\"data\": [{\"surfacecolorsrc\": \"\", \"zsrc\": \"\", \"type\": \"surface\"}], \"name\": \"frame5\"}, {\"data\": [{\"surfacecolorsrc\": \"\", \"zsrc\": \"\", \"type\": \"surface\"}], \"name\": \"frame6\"}, {\"data\": [{\"surfacecolorsrc\": \"\", \"zsrc\": \"\", \"type\": \"surface\"}], \"name\": \"frame7\"}, {\"data\": [{\"surfacecolorsrc\": \"\", \"zsrc\": \"\", \"type\": \"surface\"}], \"name\": \"frame8\"}, {\"data\": [{\"surfacecolorsrc\": \"\", \"zsrc\": \"\", \"type\": \"surface\"}], \"name\": \"frame9\"}, {\"data\": [{\"surfacecolorsrc\": \"\", \"zsrc\": \"\", \"type\": \"surface\"}], \"name\": \"frame10\"}, {\"data\": [{\"surfacecolorsrc\": \"\", \"zsrc\": \"\", \"type\": \"surface\"}], \"name\": \"frame11\"}, {\"data\": [{\"surfacecolorsrc\": \"\", \"zsrc\": \"\", \"type\": \"surface\"}], \"name\": \"frame12\"}, {\"data\": [{\"surfacecolorsrc\": \"\", \"zsrc\": \"\", \"type\": \"surface\"}], \"name\": \"frame13\"}, {\"data\": [{\"surfacecolorsrc\": \"\", \"zsrc\": \"\", \"type\": \"surface\"}], \"name\": \"frame14\"}, {\"data\": [{\"surfacecolorsrc\": \"\", \"zsrc\": \"\", \"type\": \"surface\"}], \"name\": \"frame15\"}, {\"data\": [{\"surfacecolorsrc\": \"\", \"zsrc\": \"\", \"type\": \"surface\"}], \"name\": \"frame16\"}, {\"data\": [{\"surfacecolorsrc\": \"\", \"zsrc\": \"\", \"type\": \"surface\"}], \"name\": \"frame17\"}, {\"data\": [{\"surfacecolorsrc\": \"\", \"zsrc\": \"\", \"type\": \"surface\"}], \"name\": \"frame18\"}, {\"data\": [{\"surfacecolorsrc\": \"\", \"zsrc\": \"\", \"type\": \"surface\"}], \"name\": \"frame19\"}, {\"data\": [{\"surfacecolorsrc\": \"\", \"zsrc\": \"\", \"type\": \"surface\"}], \"name\": \"frame20\"}, {\"data\": [{\"surfacecolorsrc\": \"\", \"zsrc\": \"\", \"type\": \"surface\"}], \"name\": \"frame21\"}, {\"data\": [{\"surfacecolorsrc\": \"\", \"zsrc\": \"\", \"type\": \"surface\"}], \"name\": \"frame22\"}, {\"data\": [{\"surfacecolorsrc\": \"\", \"zsrc\": \"\", \"type\": \"surface\"}], \"name\": \"frame23\"}, {\"data\": [{\"surfacecolorsrc\": \"\", \"zsrc\": \"\", \"type\": \"surface\"}], \"name\": \"frame24\"}, {\"data\": [{\"surfacecolorsrc\": \"\", \"zsrc\": \"\", \"type\": \"surface\"}], \"name\": \"frame25\"}, {\"data\": [{\"surfacecolorsrc\": \"\", \"zsrc\": \"\", \"type\": \"surface\"}], \"name\": \"frame26\"}, {\"data\": [{\"surfacecolorsrc\": \"\", \"zsrc\": \"\", \"type\": \"surface\"}], \"name\": \"frame27\"}, {\"data\": [{\"surfacecolorsrc\": \"\", \"zsrc\": \"\", \"type\": \"surface\"}], \"name\": \"frame28\"}, {\"data\": [{\"surfacecolorsrc\": \"\", \"zsrc\": \"\", \"type\": \"surface\"}], \"name\": \"frame29\"}, {\"data\": [{\"surfacecolorsrc\": \"\", \"zsrc\": \"\", \"type\": \"surface\"}], \"name\": \"frame30\"}, {\"data\": [{\"surfacecolorsrc\": \"\", \"zsrc\": \"\", \"type\": \"surface\"}], \"name\": \"frame31\"}, {\"data\": [{\"surfacecolorsrc\": \"\", \"zsrc\": \"\", \"type\": \"surface\"}], \"name\": \"frame32\"}, {\"data\": [{\"surfacecolorsrc\": \"\", \"zsrc\": \"\", \"type\": \"surface\"}], \"name\": \"frame33\"}, {\"data\": [{\"surfacecolorsrc\": \"\", \"zsrc\": \"\", \"type\": \"surface\"}], \"name\": \"frame34\"}, {\"data\": [{\"surfacecolorsrc\": \"\", \"zsrc\": \"\", \"type\": \"surface\"}], \"name\": \"frame35\"}, {\"data\": [{\"surfacecolorsrc\": \"\", \"zsrc\": \"\", \"type\": \"surface\"}], \"name\": \"frame36\"}, {\"data\": [{\"surfacecolorsrc\": \"\", \"zsrc\": \"\", \"type\": \"surface\"}], \"name\": \"frame37\"}, {\"data\": [{\"surfacecolorsrc\": \"\", \"zsrc\": \"\", \"type\": \"surface\"}], \"name\": \"frame38\"}, {\"data\": [{\"surfacecolorsrc\": \"\", \"zsrc\": \"\", \"type\": \"surface\"}], \"name\": \"frame39\"}, {\"data\": [{\"surfacecolorsrc\": \"\", \"zsrc\": \"\", \"type\": \"surface\"}], \"name\": \"frame40\"}, {\"data\": [{\"surfacecolorsrc\": \"\", \"zsrc\": \"\", \"type\": \"surface\"}], \"name\": \"frame41\"}, {\"data\": [{\"surfacecolorsrc\": \"\", \"zsrc\": \"\", \"type\": \"surface\"}], \"name\": \"frame42\"}, {\"data\": [{\"surfacecolorsrc\": \"\", \"zsrc\": \"\", \"type\": \"surface\"}], \"name\": \"frame43\"}, {\"data\": [{\"surfacecolorsrc\": \"\", \"zsrc\": \"\", \"type\": \"surface\"}], \"name\": \"frame44\"}, {\"data\": [{\"surfacecolorsrc\": \"\", \"zsrc\": \"\", \"type\": \"surface\"}], \"name\": \"frame45\"}, {\"data\": [{\"surfacecolorsrc\": \"\", \"zsrc\": \"\", \"type\": \"surface\"}], \"name\": \"frame46\"}, {\"data\": [{\"surfacecolorsrc\": \"\", \"zsrc\": \"\", \"type\": \"surface\"}], \"name\": \"frame47\"}, {\"data\": [{\"surfacecolorsrc\": \"\", \"zsrc\": \"\", \"type\": \"surface\"}], \"name\": \"frame48\"}, {\"data\": [{\"surfacecolorsrc\": \"\", \"zsrc\": \"\", \"type\": \"surface\"}], \"name\": \"frame49\"}, {\"data\": [{\"surfacecolorsrc\": \"\", \"zsrc\": \"\", \"type\": \"surface\"}], \"name\": \"frame50\"}, {\"data\": [{\"surfacecolorsrc\": \"\", \"zsrc\": \"\", \"type\": \"surface\"}], \"name\": \"frame51\"}, {\"data\": [{\"surfacecolorsrc\": \"\", \"zsrc\": \"\", \"type\": \"surface\"}], \"name\": \"frame52\"}, {\"data\": [{\"surfacecolorsrc\": \"\", \"zsrc\": \"\", \"type\": \"surface\"}], \"name\": \"frame53\"}, {\"data\": [{\"surfacecolorsrc\": \"\", \"zsrc\": \"\", \"type\": \"surface\"}], \"name\": \"frame54\"}, {\"data\": [{\"surfacecolorsrc\": \"\", \"zsrc\": \"\", \"type\": \"surface\"}], \"name\": \"frame55\"}, {\"data\": [{\"surfacecolorsrc\": \"\", \"zsrc\": \"\", \"type\": \"surface\"}], \"name\": \"frame56\"}, {\"data\": [{\"surfacecolorsrc\": \"\", \"zsrc\": \"\", \"type\": \"surface\"}], \"name\": \"frame57\"}, {\"data\": [{\"surfacecolorsrc\": \"\", \"zsrc\": \"\", \"type\": \"surface\"}], \"name\": \"frame58\"}, {\"data\": [{\"surfacecolorsrc\": \"\", \"zsrc\": \"\", \"type\": \"surface\"}], \"name\": \"frame59\"}, {\"data\": [{\"surfacecolorsrc\": \"\", \"zsrc\": \"\", \"type\": \"surface\"}], \"name\": \"frame60\"}, {\"data\": [{\"surfacecolorsrc\": \"\", \"zsrc\": \"\", \"type\": \"surface\"}], \"name\": \"frame61\"}, {\"data\": [{\"surfacecolorsrc\": \"\", \"zsrc\": \"\", \"type\": \"surface\"}], \"name\": \"frame62\"}, {\"data\": [{\"surfacecolorsrc\": \"\", \"zsrc\": \"\", \"type\": \"surface\"}], \"name\": \"frame63\"}, {\"data\": [{\"surfacecolorsrc\": \"\", \"zsrc\": \"\", \"type\": \"surface\"}], \"name\": \"frame64\"}, {\"data\": [{\"surfacecolorsrc\": \"\", \"zsrc\": \"\", \"type\": \"surface\"}], \"name\": \"frame65\"}, {\"data\": [{\"surfacecolorsrc\": \"\", \"zsrc\": \"\", \"type\": \"surface\"}], \"name\": \"frame66\"}, {\"data\": [{\"surfacecolorsrc\": \"\", \"zsrc\": \"\", \"type\": \"surface\"}], \"name\": \"frame67\"}, {\"data\": [{\"surfacecolorsrc\": \"\", \"zsrc\": \"\", \"type\": \"surface\"}], \"name\": \"frame68\"}]);\n",
       "                        }).then(function(){\n",
       "                            Plotly.animate('74f5dbb2-d297-4cf9-b74b-4687660d9ff5', null);\n",
       "                        }).then(function(){\n",
       "                            \n",
       "var gd = document.getElementById('74f5dbb2-d297-4cf9-b74b-4687660d9ff5');\n",
       "var x = new MutationObserver(function (mutations, observer) {{\n",
       "        var display = window.getComputedStyle(gd).display;\n",
       "        if (!display || display === 'none') {{\n",
       "            console.log([gd, 'removed!']);\n",
       "            Plotly.purge(gd);\n",
       "            observer.disconnect();\n",
       "        }}\n",
       "}});\n",
       "\n",
       "// Listen for the removal of the full notebook cells\n",
       "var notebookContainer = gd.closest('#notebook-container');\n",
       "if (notebookContainer) {{\n",
       "    x.observe(notebookContainer, {childList: true});\n",
       "}}\n",
       "\n",
       "// Listen for the clearing of the current output cell\n",
       "var outputEl = gd.closest('.output');\n",
       "if (outputEl) {{\n",
       "    x.observe(outputEl, {childList: true});\n",
       "}}\n",
       "\n",
       "                        })\n",
       "                };\n",
       "                });\n",
       "            </script>\n",
       "        </div>"
      ]
     },
     "metadata": {},
     "output_type": "display_data"
    }
   ],
   "source": [
    "fig=dict(data=data, layout=layout3d, frames=frames)\n",
    "#icreate_animations(fig, filename='animslicesHead'+str(time.time()))\n",
    "iplot(fig, filename='animslicesHead'+str(time.time()))"
   ]
  },
  {
   "cell_type": "code",
   "execution_count": 47,
   "metadata": {},
   "outputs": [],
   "source": []
  },
  {
   "cell_type": "code",
   "execution_count": 27,
   "metadata": {},
   "outputs": [
    {
     "data": {
      "text/html": [
       "<div>\n",
       "<style scoped>\n",
       "    .dataframe tbody tr th:only-of-type {\n",
       "        vertical-align: middle;\n",
       "    }\n",
       "\n",
       "    .dataframe tbody tr th {\n",
       "        vertical-align: top;\n",
       "    }\n",
       "\n",
       "    .dataframe thead th {\n",
       "        text-align: right;\n",
       "    }\n",
       "</style>\n",
       "<table border=\"1\" class=\"dataframe\">\n",
       "  <thead>\n",
       "    <tr style=\"text-align: right;\">\n",
       "      <th></th>\n",
       "      <th>surfc1</th>\n",
       "      <th>z1</th>\n",
       "      <th>surfc2</th>\n",
       "      <th>z2</th>\n",
       "      <th>surfc3</th>\n",
       "      <th>z3</th>\n",
       "      <th>surfc4</th>\n",
       "      <th>z4</th>\n",
       "      <th>surfc5</th>\n",
       "      <th>z5</th>\n",
       "      <th>...</th>\n",
       "      <th>surfc64</th>\n",
       "      <th>z64</th>\n",
       "      <th>surfc65</th>\n",
       "      <th>z65</th>\n",
       "      <th>surfc66</th>\n",
       "      <th>z66</th>\n",
       "      <th>surfc67</th>\n",
       "      <th>z67</th>\n",
       "      <th>surfc68</th>\n",
       "      <th>z68</th>\n",
       "    </tr>\n",
       "  </thead>\n",
       "  <tbody>\n",
       "    <tr>\n",
       "      <th>0</th>\n",
       "      <td>[[0, 0, 0, 0, 0, 0, 0, 0, 0, 0, 0, 0, 0, 0, 0,...</td>\n",
       "      <td>[[6.7, 6.7, 6.7, 6.7, 6.7, 6.7, 6.7, 6.7, 6.7,...</td>\n",
       "      <td>NaN</td>\n",
       "      <td>NaN</td>\n",
       "      <td>NaN</td>\n",
       "      <td>NaN</td>\n",
       "      <td>NaN</td>\n",
       "      <td>NaN</td>\n",
       "      <td>NaN</td>\n",
       "      <td>NaN</td>\n",
       "      <td>...</td>\n",
       "      <td>NaN</td>\n",
       "      <td>NaN</td>\n",
       "      <td>NaN</td>\n",
       "      <td>NaN</td>\n",
       "      <td>NaN</td>\n",
       "      <td>NaN</td>\n",
       "      <td>NaN</td>\n",
       "      <td>NaN</td>\n",
       "      <td>NaN</td>\n",
       "      <td>NaN</td>\n",
       "    </tr>\n",
       "    <tr>\n",
       "      <th>1</th>\n",
       "      <td>NaN</td>\n",
       "      <td>NaN</td>\n",
       "      <td>[[0, 0, 0, 0, 0, 0, 0, 0, 0, 0, 0, 0, 0, 0, 0,...</td>\n",
       "      <td>[[6.6000000000000005, 6.6000000000000005, 6.60...</td>\n",
       "      <td>NaN</td>\n",
       "      <td>NaN</td>\n",
       "      <td>NaN</td>\n",
       "      <td>NaN</td>\n",
       "      <td>NaN</td>\n",
       "      <td>NaN</td>\n",
       "      <td>...</td>\n",
       "      <td>NaN</td>\n",
       "      <td>NaN</td>\n",
       "      <td>NaN</td>\n",
       "      <td>NaN</td>\n",
       "      <td>NaN</td>\n",
       "      <td>NaN</td>\n",
       "      <td>NaN</td>\n",
       "      <td>NaN</td>\n",
       "      <td>NaN</td>\n",
       "      <td>NaN</td>\n",
       "    </tr>\n",
       "    <tr>\n",
       "      <th>2</th>\n",
       "      <td>NaN</td>\n",
       "      <td>NaN</td>\n",
       "      <td>NaN</td>\n",
       "      <td>NaN</td>\n",
       "      <td>[[0, 0, 0, 0, 0, 0, 0, 0, 0, 0, 0, 0, 0, 0, 0,...</td>\n",
       "      <td>[[6.5, 6.5, 6.5, 6.5, 6.5, 6.5, 6.5, 6.5, 6.5,...</td>\n",
       "      <td>NaN</td>\n",
       "      <td>NaN</td>\n",
       "      <td>NaN</td>\n",
       "      <td>NaN</td>\n",
       "      <td>...</td>\n",
       "      <td>NaN</td>\n",
       "      <td>NaN</td>\n",
       "      <td>NaN</td>\n",
       "      <td>NaN</td>\n",
       "      <td>NaN</td>\n",
       "      <td>NaN</td>\n",
       "      <td>NaN</td>\n",
       "      <td>NaN</td>\n",
       "      <td>NaN</td>\n",
       "      <td>NaN</td>\n",
       "    </tr>\n",
       "    <tr>\n",
       "      <th>3</th>\n",
       "      <td>NaN</td>\n",
       "      <td>NaN</td>\n",
       "      <td>NaN</td>\n",
       "      <td>NaN</td>\n",
       "      <td>NaN</td>\n",
       "      <td>NaN</td>\n",
       "      <td>[[0, 0, 0, 0, 0, 0, 0, 0, 0, 0, 0, 0, 0, 0, 0,...</td>\n",
       "      <td>[[6.4, 6.4, 6.4, 6.4, 6.4, 6.4, 6.4, 6.4, 6.4,...</td>\n",
       "      <td>NaN</td>\n",
       "      <td>NaN</td>\n",
       "      <td>...</td>\n",
       "      <td>NaN</td>\n",
       "      <td>NaN</td>\n",
       "      <td>NaN</td>\n",
       "      <td>NaN</td>\n",
       "      <td>NaN</td>\n",
       "      <td>NaN</td>\n",
       "      <td>NaN</td>\n",
       "      <td>NaN</td>\n",
       "      <td>NaN</td>\n",
       "      <td>NaN</td>\n",
       "    </tr>\n",
       "    <tr>\n",
       "      <th>4</th>\n",
       "      <td>NaN</td>\n",
       "      <td>NaN</td>\n",
       "      <td>NaN</td>\n",
       "      <td>NaN</td>\n",
       "      <td>NaN</td>\n",
       "      <td>NaN</td>\n",
       "      <td>NaN</td>\n",
       "      <td>NaN</td>\n",
       "      <td>[[0, 0, 0, 0, 0, 0, 0, 0, 0, 0, 0, 0, 0, 0, 0,...</td>\n",
       "      <td>[[6.3, 6.3, 6.3, 6.3, 6.3, 6.3, 6.3, 6.3, 6.3,...</td>\n",
       "      <td>...</td>\n",
       "      <td>NaN</td>\n",
       "      <td>NaN</td>\n",
       "      <td>NaN</td>\n",
       "      <td>NaN</td>\n",
       "      <td>NaN</td>\n",
       "      <td>NaN</td>\n",
       "      <td>NaN</td>\n",
       "      <td>NaN</td>\n",
       "      <td>NaN</td>\n",
       "      <td>NaN</td>\n",
       "    </tr>\n",
       "    <tr>\n",
       "      <th>5</th>\n",
       "      <td>NaN</td>\n",
       "      <td>NaN</td>\n",
       "      <td>NaN</td>\n",
       "      <td>NaN</td>\n",
       "      <td>NaN</td>\n",
       "      <td>NaN</td>\n",
       "      <td>NaN</td>\n",
       "      <td>NaN</td>\n",
       "      <td>NaN</td>\n",
       "      <td>NaN</td>\n",
       "      <td>...</td>\n",
       "      <td>NaN</td>\n",
       "      <td>NaN</td>\n",
       "      <td>NaN</td>\n",
       "      <td>NaN</td>\n",
       "      <td>NaN</td>\n",
       "      <td>NaN</td>\n",
       "      <td>NaN</td>\n",
       "      <td>NaN</td>\n",
       "      <td>NaN</td>\n",
       "      <td>NaN</td>\n",
       "    </tr>\n",
       "    <tr>\n",
       "      <th>6</th>\n",
       "      <td>NaN</td>\n",
       "      <td>NaN</td>\n",
       "      <td>NaN</td>\n",
       "      <td>NaN</td>\n",
       "      <td>NaN</td>\n",
       "      <td>NaN</td>\n",
       "      <td>NaN</td>\n",
       "      <td>NaN</td>\n",
       "      <td>NaN</td>\n",
       "      <td>NaN</td>\n",
       "      <td>...</td>\n",
       "      <td>NaN</td>\n",
       "      <td>NaN</td>\n",
       "      <td>NaN</td>\n",
       "      <td>NaN</td>\n",
       "      <td>NaN</td>\n",
       "      <td>NaN</td>\n",
       "      <td>NaN</td>\n",
       "      <td>NaN</td>\n",
       "      <td>NaN</td>\n",
       "      <td>NaN</td>\n",
       "    </tr>\n",
       "    <tr>\n",
       "      <th>7</th>\n",
       "      <td>NaN</td>\n",
       "      <td>NaN</td>\n",
       "      <td>NaN</td>\n",
       "      <td>NaN</td>\n",
       "      <td>NaN</td>\n",
       "      <td>NaN</td>\n",
       "      <td>NaN</td>\n",
       "      <td>NaN</td>\n",
       "      <td>NaN</td>\n",
       "      <td>NaN</td>\n",
       "      <td>...</td>\n",
       "      <td>NaN</td>\n",
       "      <td>NaN</td>\n",
       "      <td>NaN</td>\n",
       "      <td>NaN</td>\n",
       "      <td>NaN</td>\n",
       "      <td>NaN</td>\n",
       "      <td>NaN</td>\n",
       "      <td>NaN</td>\n",
       "      <td>NaN</td>\n",
       "      <td>NaN</td>\n",
       "    </tr>\n",
       "    <tr>\n",
       "      <th>8</th>\n",
       "      <td>NaN</td>\n",
       "      <td>NaN</td>\n",
       "      <td>NaN</td>\n",
       "      <td>NaN</td>\n",
       "      <td>NaN</td>\n",
       "      <td>NaN</td>\n",
       "      <td>NaN</td>\n",
       "      <td>NaN</td>\n",
       "      <td>NaN</td>\n",
       "      <td>NaN</td>\n",
       "      <td>...</td>\n",
       "      <td>NaN</td>\n",
       "      <td>NaN</td>\n",
       "      <td>NaN</td>\n",
       "      <td>NaN</td>\n",
       "      <td>NaN</td>\n",
       "      <td>NaN</td>\n",
       "      <td>NaN</td>\n",
       "      <td>NaN</td>\n",
       "      <td>NaN</td>\n",
       "      <td>NaN</td>\n",
       "    </tr>\n",
       "    <tr>\n",
       "      <th>9</th>\n",
       "      <td>NaN</td>\n",
       "      <td>NaN</td>\n",
       "      <td>NaN</td>\n",
       "      <td>NaN</td>\n",
       "      <td>NaN</td>\n",
       "      <td>NaN</td>\n",
       "      <td>NaN</td>\n",
       "      <td>NaN</td>\n",
       "      <td>NaN</td>\n",
       "      <td>NaN</td>\n",
       "      <td>...</td>\n",
       "      <td>NaN</td>\n",
       "      <td>NaN</td>\n",
       "      <td>NaN</td>\n",
       "      <td>NaN</td>\n",
       "      <td>NaN</td>\n",
       "      <td>NaN</td>\n",
       "      <td>NaN</td>\n",
       "      <td>NaN</td>\n",
       "      <td>NaN</td>\n",
       "      <td>NaN</td>\n",
       "    </tr>\n",
       "    <tr>\n",
       "      <th>10</th>\n",
       "      <td>NaN</td>\n",
       "      <td>NaN</td>\n",
       "      <td>NaN</td>\n",
       "      <td>NaN</td>\n",
       "      <td>NaN</td>\n",
       "      <td>NaN</td>\n",
       "      <td>NaN</td>\n",
       "      <td>NaN</td>\n",
       "      <td>NaN</td>\n",
       "      <td>NaN</td>\n",
       "      <td>...</td>\n",
       "      <td>NaN</td>\n",
       "      <td>NaN</td>\n",
       "      <td>NaN</td>\n",
       "      <td>NaN</td>\n",
       "      <td>NaN</td>\n",
       "      <td>NaN</td>\n",
       "      <td>NaN</td>\n",
       "      <td>NaN</td>\n",
       "      <td>NaN</td>\n",
       "      <td>NaN</td>\n",
       "    </tr>\n",
       "    <tr>\n",
       "      <th>11</th>\n",
       "      <td>NaN</td>\n",
       "      <td>NaN</td>\n",
       "      <td>NaN</td>\n",
       "      <td>NaN</td>\n",
       "      <td>NaN</td>\n",
       "      <td>NaN</td>\n",
       "      <td>NaN</td>\n",
       "      <td>NaN</td>\n",
       "      <td>NaN</td>\n",
       "      <td>NaN</td>\n",
       "      <td>...</td>\n",
       "      <td>NaN</td>\n",
       "      <td>NaN</td>\n",
       "      <td>NaN</td>\n",
       "      <td>NaN</td>\n",
       "      <td>NaN</td>\n",
       "      <td>NaN</td>\n",
       "      <td>NaN</td>\n",
       "      <td>NaN</td>\n",
       "      <td>NaN</td>\n",
       "      <td>NaN</td>\n",
       "    </tr>\n",
       "    <tr>\n",
       "      <th>12</th>\n",
       "      <td>NaN</td>\n",
       "      <td>NaN</td>\n",
       "      <td>NaN</td>\n",
       "      <td>NaN</td>\n",
       "      <td>NaN</td>\n",
       "      <td>NaN</td>\n",
       "      <td>NaN</td>\n",
       "      <td>NaN</td>\n",
       "      <td>NaN</td>\n",
       "      <td>NaN</td>\n",
       "      <td>...</td>\n",
       "      <td>NaN</td>\n",
       "      <td>NaN</td>\n",
       "      <td>NaN</td>\n",
       "      <td>NaN</td>\n",
       "      <td>NaN</td>\n",
       "      <td>NaN</td>\n",
       "      <td>NaN</td>\n",
       "      <td>NaN</td>\n",
       "      <td>NaN</td>\n",
       "      <td>NaN</td>\n",
       "    </tr>\n",
       "    <tr>\n",
       "      <th>13</th>\n",
       "      <td>NaN</td>\n",
       "      <td>NaN</td>\n",
       "      <td>NaN</td>\n",
       "      <td>NaN</td>\n",
       "      <td>NaN</td>\n",
       "      <td>NaN</td>\n",
       "      <td>NaN</td>\n",
       "      <td>NaN</td>\n",
       "      <td>NaN</td>\n",
       "      <td>NaN</td>\n",
       "      <td>...</td>\n",
       "      <td>NaN</td>\n",
       "      <td>NaN</td>\n",
       "      <td>NaN</td>\n",
       "      <td>NaN</td>\n",
       "      <td>NaN</td>\n",
       "      <td>NaN</td>\n",
       "      <td>NaN</td>\n",
       "      <td>NaN</td>\n",
       "      <td>NaN</td>\n",
       "      <td>NaN</td>\n",
       "    </tr>\n",
       "    <tr>\n",
       "      <th>14</th>\n",
       "      <td>NaN</td>\n",
       "      <td>NaN</td>\n",
       "      <td>NaN</td>\n",
       "      <td>NaN</td>\n",
       "      <td>NaN</td>\n",
       "      <td>NaN</td>\n",
       "      <td>NaN</td>\n",
       "      <td>NaN</td>\n",
       "      <td>NaN</td>\n",
       "      <td>NaN</td>\n",
       "      <td>...</td>\n",
       "      <td>NaN</td>\n",
       "      <td>NaN</td>\n",
       "      <td>NaN</td>\n",
       "      <td>NaN</td>\n",
       "      <td>NaN</td>\n",
       "      <td>NaN</td>\n",
       "      <td>NaN</td>\n",
       "      <td>NaN</td>\n",
       "      <td>NaN</td>\n",
       "      <td>NaN</td>\n",
       "    </tr>\n",
       "    <tr>\n",
       "      <th>15</th>\n",
       "      <td>NaN</td>\n",
       "      <td>NaN</td>\n",
       "      <td>NaN</td>\n",
       "      <td>NaN</td>\n",
       "      <td>NaN</td>\n",
       "      <td>NaN</td>\n",
       "      <td>NaN</td>\n",
       "      <td>NaN</td>\n",
       "      <td>NaN</td>\n",
       "      <td>NaN</td>\n",
       "      <td>...</td>\n",
       "      <td>NaN</td>\n",
       "      <td>NaN</td>\n",
       "      <td>NaN</td>\n",
       "      <td>NaN</td>\n",
       "      <td>NaN</td>\n",
       "      <td>NaN</td>\n",
       "      <td>NaN</td>\n",
       "      <td>NaN</td>\n",
       "      <td>NaN</td>\n",
       "      <td>NaN</td>\n",
       "    </tr>\n",
       "    <tr>\n",
       "      <th>16</th>\n",
       "      <td>NaN</td>\n",
       "      <td>NaN</td>\n",
       "      <td>NaN</td>\n",
       "      <td>NaN</td>\n",
       "      <td>NaN</td>\n",
       "      <td>NaN</td>\n",
       "      <td>NaN</td>\n",
       "      <td>NaN</td>\n",
       "      <td>NaN</td>\n",
       "      <td>NaN</td>\n",
       "      <td>...</td>\n",
       "      <td>NaN</td>\n",
       "      <td>NaN</td>\n",
       "      <td>NaN</td>\n",
       "      <td>NaN</td>\n",
       "      <td>NaN</td>\n",
       "      <td>NaN</td>\n",
       "      <td>NaN</td>\n",
       "      <td>NaN</td>\n",
       "      <td>NaN</td>\n",
       "      <td>NaN</td>\n",
       "    </tr>\n",
       "    <tr>\n",
       "      <th>17</th>\n",
       "      <td>NaN</td>\n",
       "      <td>NaN</td>\n",
       "      <td>NaN</td>\n",
       "      <td>NaN</td>\n",
       "      <td>NaN</td>\n",
       "      <td>NaN</td>\n",
       "      <td>NaN</td>\n",
       "      <td>NaN</td>\n",
       "      <td>NaN</td>\n",
       "      <td>NaN</td>\n",
       "      <td>...</td>\n",
       "      <td>NaN</td>\n",
       "      <td>NaN</td>\n",
       "      <td>NaN</td>\n",
       "      <td>NaN</td>\n",
       "      <td>NaN</td>\n",
       "      <td>NaN</td>\n",
       "      <td>NaN</td>\n",
       "      <td>NaN</td>\n",
       "      <td>NaN</td>\n",
       "      <td>NaN</td>\n",
       "    </tr>\n",
       "    <tr>\n",
       "      <th>18</th>\n",
       "      <td>NaN</td>\n",
       "      <td>NaN</td>\n",
       "      <td>NaN</td>\n",
       "      <td>NaN</td>\n",
       "      <td>NaN</td>\n",
       "      <td>NaN</td>\n",
       "      <td>NaN</td>\n",
       "      <td>NaN</td>\n",
       "      <td>NaN</td>\n",
       "      <td>NaN</td>\n",
       "      <td>...</td>\n",
       "      <td>NaN</td>\n",
       "      <td>NaN</td>\n",
       "      <td>NaN</td>\n",
       "      <td>NaN</td>\n",
       "      <td>NaN</td>\n",
       "      <td>NaN</td>\n",
       "      <td>NaN</td>\n",
       "      <td>NaN</td>\n",
       "      <td>NaN</td>\n",
       "      <td>NaN</td>\n",
       "    </tr>\n",
       "    <tr>\n",
       "      <th>19</th>\n",
       "      <td>NaN</td>\n",
       "      <td>NaN</td>\n",
       "      <td>NaN</td>\n",
       "      <td>NaN</td>\n",
       "      <td>NaN</td>\n",
       "      <td>NaN</td>\n",
       "      <td>NaN</td>\n",
       "      <td>NaN</td>\n",
       "      <td>NaN</td>\n",
       "      <td>NaN</td>\n",
       "      <td>...</td>\n",
       "      <td>NaN</td>\n",
       "      <td>NaN</td>\n",
       "      <td>NaN</td>\n",
       "      <td>NaN</td>\n",
       "      <td>NaN</td>\n",
       "      <td>NaN</td>\n",
       "      <td>NaN</td>\n",
       "      <td>NaN</td>\n",
       "      <td>NaN</td>\n",
       "      <td>NaN</td>\n",
       "    </tr>\n",
       "    <tr>\n",
       "      <th>20</th>\n",
       "      <td>NaN</td>\n",
       "      <td>NaN</td>\n",
       "      <td>NaN</td>\n",
       "      <td>NaN</td>\n",
       "      <td>NaN</td>\n",
       "      <td>NaN</td>\n",
       "      <td>NaN</td>\n",
       "      <td>NaN</td>\n",
       "      <td>NaN</td>\n",
       "      <td>NaN</td>\n",
       "      <td>...</td>\n",
       "      <td>NaN</td>\n",
       "      <td>NaN</td>\n",
       "      <td>NaN</td>\n",
       "      <td>NaN</td>\n",
       "      <td>NaN</td>\n",
       "      <td>NaN</td>\n",
       "      <td>NaN</td>\n",
       "      <td>NaN</td>\n",
       "      <td>NaN</td>\n",
       "      <td>NaN</td>\n",
       "    </tr>\n",
       "    <tr>\n",
       "      <th>21</th>\n",
       "      <td>NaN</td>\n",
       "      <td>NaN</td>\n",
       "      <td>NaN</td>\n",
       "      <td>NaN</td>\n",
       "      <td>NaN</td>\n",
       "      <td>NaN</td>\n",
       "      <td>NaN</td>\n",
       "      <td>NaN</td>\n",
       "      <td>NaN</td>\n",
       "      <td>NaN</td>\n",
       "      <td>...</td>\n",
       "      <td>NaN</td>\n",
       "      <td>NaN</td>\n",
       "      <td>NaN</td>\n",
       "      <td>NaN</td>\n",
       "      <td>NaN</td>\n",
       "      <td>NaN</td>\n",
       "      <td>NaN</td>\n",
       "      <td>NaN</td>\n",
       "      <td>NaN</td>\n",
       "      <td>NaN</td>\n",
       "    </tr>\n",
       "    <tr>\n",
       "      <th>22</th>\n",
       "      <td>NaN</td>\n",
       "      <td>NaN</td>\n",
       "      <td>NaN</td>\n",
       "      <td>NaN</td>\n",
       "      <td>NaN</td>\n",
       "      <td>NaN</td>\n",
       "      <td>NaN</td>\n",
       "      <td>NaN</td>\n",
       "      <td>NaN</td>\n",
       "      <td>NaN</td>\n",
       "      <td>...</td>\n",
       "      <td>NaN</td>\n",
       "      <td>NaN</td>\n",
       "      <td>NaN</td>\n",
       "      <td>NaN</td>\n",
       "      <td>NaN</td>\n",
       "      <td>NaN</td>\n",
       "      <td>NaN</td>\n",
       "      <td>NaN</td>\n",
       "      <td>NaN</td>\n",
       "      <td>NaN</td>\n",
       "    </tr>\n",
       "    <tr>\n",
       "      <th>23</th>\n",
       "      <td>NaN</td>\n",
       "      <td>NaN</td>\n",
       "      <td>NaN</td>\n",
       "      <td>NaN</td>\n",
       "      <td>NaN</td>\n",
       "      <td>NaN</td>\n",
       "      <td>NaN</td>\n",
       "      <td>NaN</td>\n",
       "      <td>NaN</td>\n",
       "      <td>NaN</td>\n",
       "      <td>...</td>\n",
       "      <td>NaN</td>\n",
       "      <td>NaN</td>\n",
       "      <td>NaN</td>\n",
       "      <td>NaN</td>\n",
       "      <td>NaN</td>\n",
       "      <td>NaN</td>\n",
       "      <td>NaN</td>\n",
       "      <td>NaN</td>\n",
       "      <td>NaN</td>\n",
       "      <td>NaN</td>\n",
       "    </tr>\n",
       "    <tr>\n",
       "      <th>24</th>\n",
       "      <td>NaN</td>\n",
       "      <td>NaN</td>\n",
       "      <td>NaN</td>\n",
       "      <td>NaN</td>\n",
       "      <td>NaN</td>\n",
       "      <td>NaN</td>\n",
       "      <td>NaN</td>\n",
       "      <td>NaN</td>\n",
       "      <td>NaN</td>\n",
       "      <td>NaN</td>\n",
       "      <td>...</td>\n",
       "      <td>NaN</td>\n",
       "      <td>NaN</td>\n",
       "      <td>NaN</td>\n",
       "      <td>NaN</td>\n",
       "      <td>NaN</td>\n",
       "      <td>NaN</td>\n",
       "      <td>NaN</td>\n",
       "      <td>NaN</td>\n",
       "      <td>NaN</td>\n",
       "      <td>NaN</td>\n",
       "    </tr>\n",
       "    <tr>\n",
       "      <th>25</th>\n",
       "      <td>NaN</td>\n",
       "      <td>NaN</td>\n",
       "      <td>NaN</td>\n",
       "      <td>NaN</td>\n",
       "      <td>NaN</td>\n",
       "      <td>NaN</td>\n",
       "      <td>NaN</td>\n",
       "      <td>NaN</td>\n",
       "      <td>NaN</td>\n",
       "      <td>NaN</td>\n",
       "      <td>...</td>\n",
       "      <td>NaN</td>\n",
       "      <td>NaN</td>\n",
       "      <td>NaN</td>\n",
       "      <td>NaN</td>\n",
       "      <td>NaN</td>\n",
       "      <td>NaN</td>\n",
       "      <td>NaN</td>\n",
       "      <td>NaN</td>\n",
       "      <td>NaN</td>\n",
       "      <td>NaN</td>\n",
       "    </tr>\n",
       "    <tr>\n",
       "      <th>26</th>\n",
       "      <td>NaN</td>\n",
       "      <td>NaN</td>\n",
       "      <td>NaN</td>\n",
       "      <td>NaN</td>\n",
       "      <td>NaN</td>\n",
       "      <td>NaN</td>\n",
       "      <td>NaN</td>\n",
       "      <td>NaN</td>\n",
       "      <td>NaN</td>\n",
       "      <td>NaN</td>\n",
       "      <td>...</td>\n",
       "      <td>NaN</td>\n",
       "      <td>NaN</td>\n",
       "      <td>NaN</td>\n",
       "      <td>NaN</td>\n",
       "      <td>NaN</td>\n",
       "      <td>NaN</td>\n",
       "      <td>NaN</td>\n",
       "      <td>NaN</td>\n",
       "      <td>NaN</td>\n",
       "      <td>NaN</td>\n",
       "    </tr>\n",
       "    <tr>\n",
       "      <th>27</th>\n",
       "      <td>NaN</td>\n",
       "      <td>NaN</td>\n",
       "      <td>NaN</td>\n",
       "      <td>NaN</td>\n",
       "      <td>NaN</td>\n",
       "      <td>NaN</td>\n",
       "      <td>NaN</td>\n",
       "      <td>NaN</td>\n",
       "      <td>NaN</td>\n",
       "      <td>NaN</td>\n",
       "      <td>...</td>\n",
       "      <td>NaN</td>\n",
       "      <td>NaN</td>\n",
       "      <td>NaN</td>\n",
       "      <td>NaN</td>\n",
       "      <td>NaN</td>\n",
       "      <td>NaN</td>\n",
       "      <td>NaN</td>\n",
       "      <td>NaN</td>\n",
       "      <td>NaN</td>\n",
       "      <td>NaN</td>\n",
       "    </tr>\n",
       "    <tr>\n",
       "      <th>28</th>\n",
       "      <td>NaN</td>\n",
       "      <td>NaN</td>\n",
       "      <td>NaN</td>\n",
       "      <td>NaN</td>\n",
       "      <td>NaN</td>\n",
       "      <td>NaN</td>\n",
       "      <td>NaN</td>\n",
       "      <td>NaN</td>\n",
       "      <td>NaN</td>\n",
       "      <td>NaN</td>\n",
       "      <td>...</td>\n",
       "      <td>NaN</td>\n",
       "      <td>NaN</td>\n",
       "      <td>NaN</td>\n",
       "      <td>NaN</td>\n",
       "      <td>NaN</td>\n",
       "      <td>NaN</td>\n",
       "      <td>NaN</td>\n",
       "      <td>NaN</td>\n",
       "      <td>NaN</td>\n",
       "      <td>NaN</td>\n",
       "    </tr>\n",
       "    <tr>\n",
       "      <th>29</th>\n",
       "      <td>NaN</td>\n",
       "      <td>NaN</td>\n",
       "      <td>NaN</td>\n",
       "      <td>NaN</td>\n",
       "      <td>NaN</td>\n",
       "      <td>NaN</td>\n",
       "      <td>NaN</td>\n",
       "      <td>NaN</td>\n",
       "      <td>NaN</td>\n",
       "      <td>NaN</td>\n",
       "      <td>...</td>\n",
       "      <td>NaN</td>\n",
       "      <td>NaN</td>\n",
       "      <td>NaN</td>\n",
       "      <td>NaN</td>\n",
       "      <td>NaN</td>\n",
       "      <td>NaN</td>\n",
       "      <td>NaN</td>\n",
       "      <td>NaN</td>\n",
       "      <td>NaN</td>\n",
       "      <td>NaN</td>\n",
       "    </tr>\n",
       "    <tr>\n",
       "      <th>...</th>\n",
       "      <td>...</td>\n",
       "      <td>...</td>\n",
       "      <td>...</td>\n",
       "      <td>...</td>\n",
       "      <td>...</td>\n",
       "      <td>...</td>\n",
       "      <td>...</td>\n",
       "      <td>...</td>\n",
       "      <td>...</td>\n",
       "      <td>...</td>\n",
       "      <td>...</td>\n",
       "      <td>...</td>\n",
       "      <td>...</td>\n",
       "      <td>...</td>\n",
       "      <td>...</td>\n",
       "      <td>...</td>\n",
       "      <td>...</td>\n",
       "      <td>...</td>\n",
       "      <td>...</td>\n",
       "      <td>...</td>\n",
       "      <td>...</td>\n",
       "    </tr>\n",
       "    <tr>\n",
       "      <th>38</th>\n",
       "      <td>NaN</td>\n",
       "      <td>NaN</td>\n",
       "      <td>NaN</td>\n",
       "      <td>NaN</td>\n",
       "      <td>NaN</td>\n",
       "      <td>NaN</td>\n",
       "      <td>NaN</td>\n",
       "      <td>NaN</td>\n",
       "      <td>NaN</td>\n",
       "      <td>NaN</td>\n",
       "      <td>...</td>\n",
       "      <td>NaN</td>\n",
       "      <td>NaN</td>\n",
       "      <td>NaN</td>\n",
       "      <td>NaN</td>\n",
       "      <td>NaN</td>\n",
       "      <td>NaN</td>\n",
       "      <td>NaN</td>\n",
       "      <td>NaN</td>\n",
       "      <td>NaN</td>\n",
       "      <td>NaN</td>\n",
       "    </tr>\n",
       "    <tr>\n",
       "      <th>39</th>\n",
       "      <td>NaN</td>\n",
       "      <td>NaN</td>\n",
       "      <td>NaN</td>\n",
       "      <td>NaN</td>\n",
       "      <td>NaN</td>\n",
       "      <td>NaN</td>\n",
       "      <td>NaN</td>\n",
       "      <td>NaN</td>\n",
       "      <td>NaN</td>\n",
       "      <td>NaN</td>\n",
       "      <td>...</td>\n",
       "      <td>NaN</td>\n",
       "      <td>NaN</td>\n",
       "      <td>NaN</td>\n",
       "      <td>NaN</td>\n",
       "      <td>NaN</td>\n",
       "      <td>NaN</td>\n",
       "      <td>NaN</td>\n",
       "      <td>NaN</td>\n",
       "      <td>NaN</td>\n",
       "      <td>NaN</td>\n",
       "    </tr>\n",
       "    <tr>\n",
       "      <th>40</th>\n",
       "      <td>NaN</td>\n",
       "      <td>NaN</td>\n",
       "      <td>NaN</td>\n",
       "      <td>NaN</td>\n",
       "      <td>NaN</td>\n",
       "      <td>NaN</td>\n",
       "      <td>NaN</td>\n",
       "      <td>NaN</td>\n",
       "      <td>NaN</td>\n",
       "      <td>NaN</td>\n",
       "      <td>...</td>\n",
       "      <td>NaN</td>\n",
       "      <td>NaN</td>\n",
       "      <td>NaN</td>\n",
       "      <td>NaN</td>\n",
       "      <td>NaN</td>\n",
       "      <td>NaN</td>\n",
       "      <td>NaN</td>\n",
       "      <td>NaN</td>\n",
       "      <td>NaN</td>\n",
       "      <td>NaN</td>\n",
       "    </tr>\n",
       "    <tr>\n",
       "      <th>41</th>\n",
       "      <td>NaN</td>\n",
       "      <td>NaN</td>\n",
       "      <td>NaN</td>\n",
       "      <td>NaN</td>\n",
       "      <td>NaN</td>\n",
       "      <td>NaN</td>\n",
       "      <td>NaN</td>\n",
       "      <td>NaN</td>\n",
       "      <td>NaN</td>\n",
       "      <td>NaN</td>\n",
       "      <td>...</td>\n",
       "      <td>NaN</td>\n",
       "      <td>NaN</td>\n",
       "      <td>NaN</td>\n",
       "      <td>NaN</td>\n",
       "      <td>NaN</td>\n",
       "      <td>NaN</td>\n",
       "      <td>NaN</td>\n",
       "      <td>NaN</td>\n",
       "      <td>NaN</td>\n",
       "      <td>NaN</td>\n",
       "    </tr>\n",
       "    <tr>\n",
       "      <th>42</th>\n",
       "      <td>NaN</td>\n",
       "      <td>NaN</td>\n",
       "      <td>NaN</td>\n",
       "      <td>NaN</td>\n",
       "      <td>NaN</td>\n",
       "      <td>NaN</td>\n",
       "      <td>NaN</td>\n",
       "      <td>NaN</td>\n",
       "      <td>NaN</td>\n",
       "      <td>NaN</td>\n",
       "      <td>...</td>\n",
       "      <td>NaN</td>\n",
       "      <td>NaN</td>\n",
       "      <td>NaN</td>\n",
       "      <td>NaN</td>\n",
       "      <td>NaN</td>\n",
       "      <td>NaN</td>\n",
       "      <td>NaN</td>\n",
       "      <td>NaN</td>\n",
       "      <td>NaN</td>\n",
       "      <td>NaN</td>\n",
       "    </tr>\n",
       "    <tr>\n",
       "      <th>43</th>\n",
       "      <td>NaN</td>\n",
       "      <td>NaN</td>\n",
       "      <td>NaN</td>\n",
       "      <td>NaN</td>\n",
       "      <td>NaN</td>\n",
       "      <td>NaN</td>\n",
       "      <td>NaN</td>\n",
       "      <td>NaN</td>\n",
       "      <td>NaN</td>\n",
       "      <td>NaN</td>\n",
       "      <td>...</td>\n",
       "      <td>NaN</td>\n",
       "      <td>NaN</td>\n",
       "      <td>NaN</td>\n",
       "      <td>NaN</td>\n",
       "      <td>NaN</td>\n",
       "      <td>NaN</td>\n",
       "      <td>NaN</td>\n",
       "      <td>NaN</td>\n",
       "      <td>NaN</td>\n",
       "      <td>NaN</td>\n",
       "    </tr>\n",
       "    <tr>\n",
       "      <th>44</th>\n",
       "      <td>NaN</td>\n",
       "      <td>NaN</td>\n",
       "      <td>NaN</td>\n",
       "      <td>NaN</td>\n",
       "      <td>NaN</td>\n",
       "      <td>NaN</td>\n",
       "      <td>NaN</td>\n",
       "      <td>NaN</td>\n",
       "      <td>NaN</td>\n",
       "      <td>NaN</td>\n",
       "      <td>...</td>\n",
       "      <td>NaN</td>\n",
       "      <td>NaN</td>\n",
       "      <td>NaN</td>\n",
       "      <td>NaN</td>\n",
       "      <td>NaN</td>\n",
       "      <td>NaN</td>\n",
       "      <td>NaN</td>\n",
       "      <td>NaN</td>\n",
       "      <td>NaN</td>\n",
       "      <td>NaN</td>\n",
       "    </tr>\n",
       "    <tr>\n",
       "      <th>45</th>\n",
       "      <td>NaN</td>\n",
       "      <td>NaN</td>\n",
       "      <td>NaN</td>\n",
       "      <td>NaN</td>\n",
       "      <td>NaN</td>\n",
       "      <td>NaN</td>\n",
       "      <td>NaN</td>\n",
       "      <td>NaN</td>\n",
       "      <td>NaN</td>\n",
       "      <td>NaN</td>\n",
       "      <td>...</td>\n",
       "      <td>NaN</td>\n",
       "      <td>NaN</td>\n",
       "      <td>NaN</td>\n",
       "      <td>NaN</td>\n",
       "      <td>NaN</td>\n",
       "      <td>NaN</td>\n",
       "      <td>NaN</td>\n",
       "      <td>NaN</td>\n",
       "      <td>NaN</td>\n",
       "      <td>NaN</td>\n",
       "    </tr>\n",
       "    <tr>\n",
       "      <th>46</th>\n",
       "      <td>NaN</td>\n",
       "      <td>NaN</td>\n",
       "      <td>NaN</td>\n",
       "      <td>NaN</td>\n",
       "      <td>NaN</td>\n",
       "      <td>NaN</td>\n",
       "      <td>NaN</td>\n",
       "      <td>NaN</td>\n",
       "      <td>NaN</td>\n",
       "      <td>NaN</td>\n",
       "      <td>...</td>\n",
       "      <td>NaN</td>\n",
       "      <td>NaN</td>\n",
       "      <td>NaN</td>\n",
       "      <td>NaN</td>\n",
       "      <td>NaN</td>\n",
       "      <td>NaN</td>\n",
       "      <td>NaN</td>\n",
       "      <td>NaN</td>\n",
       "      <td>NaN</td>\n",
       "      <td>NaN</td>\n",
       "    </tr>\n",
       "    <tr>\n",
       "      <th>47</th>\n",
       "      <td>NaN</td>\n",
       "      <td>NaN</td>\n",
       "      <td>NaN</td>\n",
       "      <td>NaN</td>\n",
       "      <td>NaN</td>\n",
       "      <td>NaN</td>\n",
       "      <td>NaN</td>\n",
       "      <td>NaN</td>\n",
       "      <td>NaN</td>\n",
       "      <td>NaN</td>\n",
       "      <td>...</td>\n",
       "      <td>NaN</td>\n",
       "      <td>NaN</td>\n",
       "      <td>NaN</td>\n",
       "      <td>NaN</td>\n",
       "      <td>NaN</td>\n",
       "      <td>NaN</td>\n",
       "      <td>NaN</td>\n",
       "      <td>NaN</td>\n",
       "      <td>NaN</td>\n",
       "      <td>NaN</td>\n",
       "    </tr>\n",
       "    <tr>\n",
       "      <th>48</th>\n",
       "      <td>NaN</td>\n",
       "      <td>NaN</td>\n",
       "      <td>NaN</td>\n",
       "      <td>NaN</td>\n",
       "      <td>NaN</td>\n",
       "      <td>NaN</td>\n",
       "      <td>NaN</td>\n",
       "      <td>NaN</td>\n",
       "      <td>NaN</td>\n",
       "      <td>NaN</td>\n",
       "      <td>...</td>\n",
       "      <td>NaN</td>\n",
       "      <td>NaN</td>\n",
       "      <td>NaN</td>\n",
       "      <td>NaN</td>\n",
       "      <td>NaN</td>\n",
       "      <td>NaN</td>\n",
       "      <td>NaN</td>\n",
       "      <td>NaN</td>\n",
       "      <td>NaN</td>\n",
       "      <td>NaN</td>\n",
       "    </tr>\n",
       "    <tr>\n",
       "      <th>49</th>\n",
       "      <td>NaN</td>\n",
       "      <td>NaN</td>\n",
       "      <td>NaN</td>\n",
       "      <td>NaN</td>\n",
       "      <td>NaN</td>\n",
       "      <td>NaN</td>\n",
       "      <td>NaN</td>\n",
       "      <td>NaN</td>\n",
       "      <td>NaN</td>\n",
       "      <td>NaN</td>\n",
       "      <td>...</td>\n",
       "      <td>NaN</td>\n",
       "      <td>NaN</td>\n",
       "      <td>NaN</td>\n",
       "      <td>NaN</td>\n",
       "      <td>NaN</td>\n",
       "      <td>NaN</td>\n",
       "      <td>NaN</td>\n",
       "      <td>NaN</td>\n",
       "      <td>NaN</td>\n",
       "      <td>NaN</td>\n",
       "    </tr>\n",
       "    <tr>\n",
       "      <th>50</th>\n",
       "      <td>NaN</td>\n",
       "      <td>NaN</td>\n",
       "      <td>NaN</td>\n",
       "      <td>NaN</td>\n",
       "      <td>NaN</td>\n",
       "      <td>NaN</td>\n",
       "      <td>NaN</td>\n",
       "      <td>NaN</td>\n",
       "      <td>NaN</td>\n",
       "      <td>NaN</td>\n",
       "      <td>...</td>\n",
       "      <td>NaN</td>\n",
       "      <td>NaN</td>\n",
       "      <td>NaN</td>\n",
       "      <td>NaN</td>\n",
       "      <td>NaN</td>\n",
       "      <td>NaN</td>\n",
       "      <td>NaN</td>\n",
       "      <td>NaN</td>\n",
       "      <td>NaN</td>\n",
       "      <td>NaN</td>\n",
       "    </tr>\n",
       "    <tr>\n",
       "      <th>51</th>\n",
       "      <td>NaN</td>\n",
       "      <td>NaN</td>\n",
       "      <td>NaN</td>\n",
       "      <td>NaN</td>\n",
       "      <td>NaN</td>\n",
       "      <td>NaN</td>\n",
       "      <td>NaN</td>\n",
       "      <td>NaN</td>\n",
       "      <td>NaN</td>\n",
       "      <td>NaN</td>\n",
       "      <td>...</td>\n",
       "      <td>NaN</td>\n",
       "      <td>NaN</td>\n",
       "      <td>NaN</td>\n",
       "      <td>NaN</td>\n",
       "      <td>NaN</td>\n",
       "      <td>NaN</td>\n",
       "      <td>NaN</td>\n",
       "      <td>NaN</td>\n",
       "      <td>NaN</td>\n",
       "      <td>NaN</td>\n",
       "    </tr>\n",
       "    <tr>\n",
       "      <th>52</th>\n",
       "      <td>NaN</td>\n",
       "      <td>NaN</td>\n",
       "      <td>NaN</td>\n",
       "      <td>NaN</td>\n",
       "      <td>NaN</td>\n",
       "      <td>NaN</td>\n",
       "      <td>NaN</td>\n",
       "      <td>NaN</td>\n",
       "      <td>NaN</td>\n",
       "      <td>NaN</td>\n",
       "      <td>...</td>\n",
       "      <td>NaN</td>\n",
       "      <td>NaN</td>\n",
       "      <td>NaN</td>\n",
       "      <td>NaN</td>\n",
       "      <td>NaN</td>\n",
       "      <td>NaN</td>\n",
       "      <td>NaN</td>\n",
       "      <td>NaN</td>\n",
       "      <td>NaN</td>\n",
       "      <td>NaN</td>\n",
       "    </tr>\n",
       "    <tr>\n",
       "      <th>53</th>\n",
       "      <td>NaN</td>\n",
       "      <td>NaN</td>\n",
       "      <td>NaN</td>\n",
       "      <td>NaN</td>\n",
       "      <td>NaN</td>\n",
       "      <td>NaN</td>\n",
       "      <td>NaN</td>\n",
       "      <td>NaN</td>\n",
       "      <td>NaN</td>\n",
       "      <td>NaN</td>\n",
       "      <td>...</td>\n",
       "      <td>NaN</td>\n",
       "      <td>NaN</td>\n",
       "      <td>NaN</td>\n",
       "      <td>NaN</td>\n",
       "      <td>NaN</td>\n",
       "      <td>NaN</td>\n",
       "      <td>NaN</td>\n",
       "      <td>NaN</td>\n",
       "      <td>NaN</td>\n",
       "      <td>NaN</td>\n",
       "    </tr>\n",
       "    <tr>\n",
       "      <th>54</th>\n",
       "      <td>NaN</td>\n",
       "      <td>NaN</td>\n",
       "      <td>NaN</td>\n",
       "      <td>NaN</td>\n",
       "      <td>NaN</td>\n",
       "      <td>NaN</td>\n",
       "      <td>NaN</td>\n",
       "      <td>NaN</td>\n",
       "      <td>NaN</td>\n",
       "      <td>NaN</td>\n",
       "      <td>...</td>\n",
       "      <td>NaN</td>\n",
       "      <td>NaN</td>\n",
       "      <td>NaN</td>\n",
       "      <td>NaN</td>\n",
       "      <td>NaN</td>\n",
       "      <td>NaN</td>\n",
       "      <td>NaN</td>\n",
       "      <td>NaN</td>\n",
       "      <td>NaN</td>\n",
       "      <td>NaN</td>\n",
       "    </tr>\n",
       "    <tr>\n",
       "      <th>55</th>\n",
       "      <td>NaN</td>\n",
       "      <td>NaN</td>\n",
       "      <td>NaN</td>\n",
       "      <td>NaN</td>\n",
       "      <td>NaN</td>\n",
       "      <td>NaN</td>\n",
       "      <td>NaN</td>\n",
       "      <td>NaN</td>\n",
       "      <td>NaN</td>\n",
       "      <td>NaN</td>\n",
       "      <td>...</td>\n",
       "      <td>NaN</td>\n",
       "      <td>NaN</td>\n",
       "      <td>NaN</td>\n",
       "      <td>NaN</td>\n",
       "      <td>NaN</td>\n",
       "      <td>NaN</td>\n",
       "      <td>NaN</td>\n",
       "      <td>NaN</td>\n",
       "      <td>NaN</td>\n",
       "      <td>NaN</td>\n",
       "    </tr>\n",
       "    <tr>\n",
       "      <th>56</th>\n",
       "      <td>NaN</td>\n",
       "      <td>NaN</td>\n",
       "      <td>NaN</td>\n",
       "      <td>NaN</td>\n",
       "      <td>NaN</td>\n",
       "      <td>NaN</td>\n",
       "      <td>NaN</td>\n",
       "      <td>NaN</td>\n",
       "      <td>NaN</td>\n",
       "      <td>NaN</td>\n",
       "      <td>...</td>\n",
       "      <td>NaN</td>\n",
       "      <td>NaN</td>\n",
       "      <td>NaN</td>\n",
       "      <td>NaN</td>\n",
       "      <td>NaN</td>\n",
       "      <td>NaN</td>\n",
       "      <td>NaN</td>\n",
       "      <td>NaN</td>\n",
       "      <td>NaN</td>\n",
       "      <td>NaN</td>\n",
       "    </tr>\n",
       "    <tr>\n",
       "      <th>57</th>\n",
       "      <td>NaN</td>\n",
       "      <td>NaN</td>\n",
       "      <td>NaN</td>\n",
       "      <td>NaN</td>\n",
       "      <td>NaN</td>\n",
       "      <td>NaN</td>\n",
       "      <td>NaN</td>\n",
       "      <td>NaN</td>\n",
       "      <td>NaN</td>\n",
       "      <td>NaN</td>\n",
       "      <td>...</td>\n",
       "      <td>NaN</td>\n",
       "      <td>NaN</td>\n",
       "      <td>NaN</td>\n",
       "      <td>NaN</td>\n",
       "      <td>NaN</td>\n",
       "      <td>NaN</td>\n",
       "      <td>NaN</td>\n",
       "      <td>NaN</td>\n",
       "      <td>NaN</td>\n",
       "      <td>NaN</td>\n",
       "    </tr>\n",
       "    <tr>\n",
       "      <th>58</th>\n",
       "      <td>NaN</td>\n",
       "      <td>NaN</td>\n",
       "      <td>NaN</td>\n",
       "      <td>NaN</td>\n",
       "      <td>NaN</td>\n",
       "      <td>NaN</td>\n",
       "      <td>NaN</td>\n",
       "      <td>NaN</td>\n",
       "      <td>NaN</td>\n",
       "      <td>NaN</td>\n",
       "      <td>...</td>\n",
       "      <td>NaN</td>\n",
       "      <td>NaN</td>\n",
       "      <td>NaN</td>\n",
       "      <td>NaN</td>\n",
       "      <td>NaN</td>\n",
       "      <td>NaN</td>\n",
       "      <td>NaN</td>\n",
       "      <td>NaN</td>\n",
       "      <td>NaN</td>\n",
       "      <td>NaN</td>\n",
       "    </tr>\n",
       "    <tr>\n",
       "      <th>59</th>\n",
       "      <td>NaN</td>\n",
       "      <td>NaN</td>\n",
       "      <td>NaN</td>\n",
       "      <td>NaN</td>\n",
       "      <td>NaN</td>\n",
       "      <td>NaN</td>\n",
       "      <td>NaN</td>\n",
       "      <td>NaN</td>\n",
       "      <td>NaN</td>\n",
       "      <td>NaN</td>\n",
       "      <td>...</td>\n",
       "      <td>NaN</td>\n",
       "      <td>NaN</td>\n",
       "      <td>NaN</td>\n",
       "      <td>NaN</td>\n",
       "      <td>NaN</td>\n",
       "      <td>NaN</td>\n",
       "      <td>NaN</td>\n",
       "      <td>NaN</td>\n",
       "      <td>NaN</td>\n",
       "      <td>NaN</td>\n",
       "    </tr>\n",
       "    <tr>\n",
       "      <th>60</th>\n",
       "      <td>NaN</td>\n",
       "      <td>NaN</td>\n",
       "      <td>NaN</td>\n",
       "      <td>NaN</td>\n",
       "      <td>NaN</td>\n",
       "      <td>NaN</td>\n",
       "      <td>NaN</td>\n",
       "      <td>NaN</td>\n",
       "      <td>NaN</td>\n",
       "      <td>NaN</td>\n",
       "      <td>...</td>\n",
       "      <td>NaN</td>\n",
       "      <td>NaN</td>\n",
       "      <td>NaN</td>\n",
       "      <td>NaN</td>\n",
       "      <td>NaN</td>\n",
       "      <td>NaN</td>\n",
       "      <td>NaN</td>\n",
       "      <td>NaN</td>\n",
       "      <td>NaN</td>\n",
       "      <td>NaN</td>\n",
       "    </tr>\n",
       "    <tr>\n",
       "      <th>61</th>\n",
       "      <td>NaN</td>\n",
       "      <td>NaN</td>\n",
       "      <td>NaN</td>\n",
       "      <td>NaN</td>\n",
       "      <td>NaN</td>\n",
       "      <td>NaN</td>\n",
       "      <td>NaN</td>\n",
       "      <td>NaN</td>\n",
       "      <td>NaN</td>\n",
       "      <td>NaN</td>\n",
       "      <td>...</td>\n",
       "      <td>NaN</td>\n",
       "      <td>NaN</td>\n",
       "      <td>NaN</td>\n",
       "      <td>NaN</td>\n",
       "      <td>NaN</td>\n",
       "      <td>NaN</td>\n",
       "      <td>NaN</td>\n",
       "      <td>NaN</td>\n",
       "      <td>NaN</td>\n",
       "      <td>NaN</td>\n",
       "    </tr>\n",
       "    <tr>\n",
       "      <th>62</th>\n",
       "      <td>NaN</td>\n",
       "      <td>NaN</td>\n",
       "      <td>NaN</td>\n",
       "      <td>NaN</td>\n",
       "      <td>NaN</td>\n",
       "      <td>NaN</td>\n",
       "      <td>NaN</td>\n",
       "      <td>NaN</td>\n",
       "      <td>NaN</td>\n",
       "      <td>NaN</td>\n",
       "      <td>...</td>\n",
       "      <td>NaN</td>\n",
       "      <td>NaN</td>\n",
       "      <td>NaN</td>\n",
       "      <td>NaN</td>\n",
       "      <td>NaN</td>\n",
       "      <td>NaN</td>\n",
       "      <td>NaN</td>\n",
       "      <td>NaN</td>\n",
       "      <td>NaN</td>\n",
       "      <td>NaN</td>\n",
       "    </tr>\n",
       "    <tr>\n",
       "      <th>63</th>\n",
       "      <td>NaN</td>\n",
       "      <td>NaN</td>\n",
       "      <td>NaN</td>\n",
       "      <td>NaN</td>\n",
       "      <td>NaN</td>\n",
       "      <td>NaN</td>\n",
       "      <td>NaN</td>\n",
       "      <td>NaN</td>\n",
       "      <td>NaN</td>\n",
       "      <td>NaN</td>\n",
       "      <td>...</td>\n",
       "      <td>[[0, 0, 0, 0, 0, 0, 0, 0, 0, 0, 0, 0, 0, 0, 0,...</td>\n",
       "      <td>[[0.39999999999999947, 0.39999999999999947, 0....</td>\n",
       "      <td>NaN</td>\n",
       "      <td>NaN</td>\n",
       "      <td>NaN</td>\n",
       "      <td>NaN</td>\n",
       "      <td>NaN</td>\n",
       "      <td>NaN</td>\n",
       "      <td>NaN</td>\n",
       "      <td>NaN</td>\n",
       "    </tr>\n",
       "    <tr>\n",
       "      <th>64</th>\n",
       "      <td>NaN</td>\n",
       "      <td>NaN</td>\n",
       "      <td>NaN</td>\n",
       "      <td>NaN</td>\n",
       "      <td>NaN</td>\n",
       "      <td>NaN</td>\n",
       "      <td>NaN</td>\n",
       "      <td>NaN</td>\n",
       "      <td>NaN</td>\n",
       "      <td>NaN</td>\n",
       "      <td>...</td>\n",
       "      <td>NaN</td>\n",
       "      <td>NaN</td>\n",
       "      <td>[[0, 0, 0, 0, 0, 0, 0, 0, 0, 0, 0, 0, 0, 0, 0,...</td>\n",
       "      <td>[[0.2999999999999998, 0.2999999999999998, 0.29...</td>\n",
       "      <td>NaN</td>\n",
       "      <td>NaN</td>\n",
       "      <td>NaN</td>\n",
       "      <td>NaN</td>\n",
       "      <td>NaN</td>\n",
       "      <td>NaN</td>\n",
       "    </tr>\n",
       "    <tr>\n",
       "      <th>65</th>\n",
       "      <td>NaN</td>\n",
       "      <td>NaN</td>\n",
       "      <td>NaN</td>\n",
       "      <td>NaN</td>\n",
       "      <td>NaN</td>\n",
       "      <td>NaN</td>\n",
       "      <td>NaN</td>\n",
       "      <td>NaN</td>\n",
       "      <td>NaN</td>\n",
       "      <td>NaN</td>\n",
       "      <td>...</td>\n",
       "      <td>NaN</td>\n",
       "      <td>NaN</td>\n",
       "      <td>NaN</td>\n",
       "      <td>NaN</td>\n",
       "      <td>[[0, 0, 0, 0, 0, 0, 0, 0, 0, 0, 0, 0, 0, 0, 0,...</td>\n",
       "      <td>[[0.20000000000000018, 0.20000000000000018, 0....</td>\n",
       "      <td>NaN</td>\n",
       "      <td>NaN</td>\n",
       "      <td>NaN</td>\n",
       "      <td>NaN</td>\n",
       "    </tr>\n",
       "    <tr>\n",
       "      <th>66</th>\n",
       "      <td>NaN</td>\n",
       "      <td>NaN</td>\n",
       "      <td>NaN</td>\n",
       "      <td>NaN</td>\n",
       "      <td>NaN</td>\n",
       "      <td>NaN</td>\n",
       "      <td>NaN</td>\n",
       "      <td>NaN</td>\n",
       "      <td>NaN</td>\n",
       "      <td>NaN</td>\n",
       "      <td>...</td>\n",
       "      <td>NaN</td>\n",
       "      <td>NaN</td>\n",
       "      <td>NaN</td>\n",
       "      <td>NaN</td>\n",
       "      <td>NaN</td>\n",
       "      <td>NaN</td>\n",
       "      <td>[[0, 0, 0, 0, 0, 0, 0, 0, 0, 0, 0, 0, 0, 0, 0,...</td>\n",
       "      <td>[[0.09999999999999964, 0.09999999999999964, 0....</td>\n",
       "      <td>NaN</td>\n",
       "      <td>NaN</td>\n",
       "    </tr>\n",
       "    <tr>\n",
       "      <th>67</th>\n",
       "      <td>NaN</td>\n",
       "      <td>NaN</td>\n",
       "      <td>NaN</td>\n",
       "      <td>NaN</td>\n",
       "      <td>NaN</td>\n",
       "      <td>NaN</td>\n",
       "      <td>NaN</td>\n",
       "      <td>NaN</td>\n",
       "      <td>NaN</td>\n",
       "      <td>NaN</td>\n",
       "      <td>...</td>\n",
       "      <td>NaN</td>\n",
       "      <td>NaN</td>\n",
       "      <td>NaN</td>\n",
       "      <td>NaN</td>\n",
       "      <td>NaN</td>\n",
       "      <td>NaN</td>\n",
       "      <td>NaN</td>\n",
       "      <td>NaN</td>\n",
       "      <td>[[0, 0, 0, 0, 0, 0, 0, 0, 0, 0, 0, 0, 0, 0, 0,...</td>\n",
       "      <td>[[0.0, 0.0, 0.0, 0.0, 0.0, 0.0, 0.0, 0.0, 0.0,...</td>\n",
       "    </tr>\n",
       "  </tbody>\n",
       "</table>\n",
       "<p>68 rows × 136 columns</p>\n",
       "</div>"
      ],
      "text/plain": [
       "                                               surfc1  \\\n",
       "0   [[0, 0, 0, 0, 0, 0, 0, 0, 0, 0, 0, 0, 0, 0, 0,...   \n",
       "1                                                 NaN   \n",
       "2                                                 NaN   \n",
       "3                                                 NaN   \n",
       "4                                                 NaN   \n",
       "5                                                 NaN   \n",
       "6                                                 NaN   \n",
       "7                                                 NaN   \n",
       "8                                                 NaN   \n",
       "9                                                 NaN   \n",
       "10                                                NaN   \n",
       "11                                                NaN   \n",
       "12                                                NaN   \n",
       "13                                                NaN   \n",
       "14                                                NaN   \n",
       "15                                                NaN   \n",
       "16                                                NaN   \n",
       "17                                                NaN   \n",
       "18                                                NaN   \n",
       "19                                                NaN   \n",
       "20                                                NaN   \n",
       "21                                                NaN   \n",
       "22                                                NaN   \n",
       "23                                                NaN   \n",
       "24                                                NaN   \n",
       "25                                                NaN   \n",
       "26                                                NaN   \n",
       "27                                                NaN   \n",
       "28                                                NaN   \n",
       "29                                                NaN   \n",
       "..                                                ...   \n",
       "38                                                NaN   \n",
       "39                                                NaN   \n",
       "40                                                NaN   \n",
       "41                                                NaN   \n",
       "42                                                NaN   \n",
       "43                                                NaN   \n",
       "44                                                NaN   \n",
       "45                                                NaN   \n",
       "46                                                NaN   \n",
       "47                                                NaN   \n",
       "48                                                NaN   \n",
       "49                                                NaN   \n",
       "50                                                NaN   \n",
       "51                                                NaN   \n",
       "52                                                NaN   \n",
       "53                                                NaN   \n",
       "54                                                NaN   \n",
       "55                                                NaN   \n",
       "56                                                NaN   \n",
       "57                                                NaN   \n",
       "58                                                NaN   \n",
       "59                                                NaN   \n",
       "60                                                NaN   \n",
       "61                                                NaN   \n",
       "62                                                NaN   \n",
       "63                                                NaN   \n",
       "64                                                NaN   \n",
       "65                                                NaN   \n",
       "66                                                NaN   \n",
       "67                                                NaN   \n",
       "\n",
       "                                                   z1  \\\n",
       "0   [[6.7, 6.7, 6.7, 6.7, 6.7, 6.7, 6.7, 6.7, 6.7,...   \n",
       "1                                                 NaN   \n",
       "2                                                 NaN   \n",
       "3                                                 NaN   \n",
       "4                                                 NaN   \n",
       "5                                                 NaN   \n",
       "6                                                 NaN   \n",
       "7                                                 NaN   \n",
       "8                                                 NaN   \n",
       "9                                                 NaN   \n",
       "10                                                NaN   \n",
       "11                                                NaN   \n",
       "12                                                NaN   \n",
       "13                                                NaN   \n",
       "14                                                NaN   \n",
       "15                                                NaN   \n",
       "16                                                NaN   \n",
       "17                                                NaN   \n",
       "18                                                NaN   \n",
       "19                                                NaN   \n",
       "20                                                NaN   \n",
       "21                                                NaN   \n",
       "22                                                NaN   \n",
       "23                                                NaN   \n",
       "24                                                NaN   \n",
       "25                                                NaN   \n",
       "26                                                NaN   \n",
       "27                                                NaN   \n",
       "28                                                NaN   \n",
       "29                                                NaN   \n",
       "..                                                ...   \n",
       "38                                                NaN   \n",
       "39                                                NaN   \n",
       "40                                                NaN   \n",
       "41                                                NaN   \n",
       "42                                                NaN   \n",
       "43                                                NaN   \n",
       "44                                                NaN   \n",
       "45                                                NaN   \n",
       "46                                                NaN   \n",
       "47                                                NaN   \n",
       "48                                                NaN   \n",
       "49                                                NaN   \n",
       "50                                                NaN   \n",
       "51                                                NaN   \n",
       "52                                                NaN   \n",
       "53                                                NaN   \n",
       "54                                                NaN   \n",
       "55                                                NaN   \n",
       "56                                                NaN   \n",
       "57                                                NaN   \n",
       "58                                                NaN   \n",
       "59                                                NaN   \n",
       "60                                                NaN   \n",
       "61                                                NaN   \n",
       "62                                                NaN   \n",
       "63                                                NaN   \n",
       "64                                                NaN   \n",
       "65                                                NaN   \n",
       "66                                                NaN   \n",
       "67                                                NaN   \n",
       "\n",
       "                                               surfc2  \\\n",
       "0                                                 NaN   \n",
       "1   [[0, 0, 0, 0, 0, 0, 0, 0, 0, 0, 0, 0, 0, 0, 0,...   \n",
       "2                                                 NaN   \n",
       "3                                                 NaN   \n",
       "4                                                 NaN   \n",
       "5                                                 NaN   \n",
       "6                                                 NaN   \n",
       "7                                                 NaN   \n",
       "8                                                 NaN   \n",
       "9                                                 NaN   \n",
       "10                                                NaN   \n",
       "11                                                NaN   \n",
       "12                                                NaN   \n",
       "13                                                NaN   \n",
       "14                                                NaN   \n",
       "15                                                NaN   \n",
       "16                                                NaN   \n",
       "17                                                NaN   \n",
       "18                                                NaN   \n",
       "19                                                NaN   \n",
       "20                                                NaN   \n",
       "21                                                NaN   \n",
       "22                                                NaN   \n",
       "23                                                NaN   \n",
       "24                                                NaN   \n",
       "25                                                NaN   \n",
       "26                                                NaN   \n",
       "27                                                NaN   \n",
       "28                                                NaN   \n",
       "29                                                NaN   \n",
       "..                                                ...   \n",
       "38                                                NaN   \n",
       "39                                                NaN   \n",
       "40                                                NaN   \n",
       "41                                                NaN   \n",
       "42                                                NaN   \n",
       "43                                                NaN   \n",
       "44                                                NaN   \n",
       "45                                                NaN   \n",
       "46                                                NaN   \n",
       "47                                                NaN   \n",
       "48                                                NaN   \n",
       "49                                                NaN   \n",
       "50                                                NaN   \n",
       "51                                                NaN   \n",
       "52                                                NaN   \n",
       "53                                                NaN   \n",
       "54                                                NaN   \n",
       "55                                                NaN   \n",
       "56                                                NaN   \n",
       "57                                                NaN   \n",
       "58                                                NaN   \n",
       "59                                                NaN   \n",
       "60                                                NaN   \n",
       "61                                                NaN   \n",
       "62                                                NaN   \n",
       "63                                                NaN   \n",
       "64                                                NaN   \n",
       "65                                                NaN   \n",
       "66                                                NaN   \n",
       "67                                                NaN   \n",
       "\n",
       "                                                   z2  \\\n",
       "0                                                 NaN   \n",
       "1   [[6.6000000000000005, 6.6000000000000005, 6.60...   \n",
       "2                                                 NaN   \n",
       "3                                                 NaN   \n",
       "4                                                 NaN   \n",
       "5                                                 NaN   \n",
       "6                                                 NaN   \n",
       "7                                                 NaN   \n",
       "8                                                 NaN   \n",
       "9                                                 NaN   \n",
       "10                                                NaN   \n",
       "11                                                NaN   \n",
       "12                                                NaN   \n",
       "13                                                NaN   \n",
       "14                                                NaN   \n",
       "15                                                NaN   \n",
       "16                                                NaN   \n",
       "17                                                NaN   \n",
       "18                                                NaN   \n",
       "19                                                NaN   \n",
       "20                                                NaN   \n",
       "21                                                NaN   \n",
       "22                                                NaN   \n",
       "23                                                NaN   \n",
       "24                                                NaN   \n",
       "25                                                NaN   \n",
       "26                                                NaN   \n",
       "27                                                NaN   \n",
       "28                                                NaN   \n",
       "29                                                NaN   \n",
       "..                                                ...   \n",
       "38                                                NaN   \n",
       "39                                                NaN   \n",
       "40                                                NaN   \n",
       "41                                                NaN   \n",
       "42                                                NaN   \n",
       "43                                                NaN   \n",
       "44                                                NaN   \n",
       "45                                                NaN   \n",
       "46                                                NaN   \n",
       "47                                                NaN   \n",
       "48                                                NaN   \n",
       "49                                                NaN   \n",
       "50                                                NaN   \n",
       "51                                                NaN   \n",
       "52                                                NaN   \n",
       "53                                                NaN   \n",
       "54                                                NaN   \n",
       "55                                                NaN   \n",
       "56                                                NaN   \n",
       "57                                                NaN   \n",
       "58                                                NaN   \n",
       "59                                                NaN   \n",
       "60                                                NaN   \n",
       "61                                                NaN   \n",
       "62                                                NaN   \n",
       "63                                                NaN   \n",
       "64                                                NaN   \n",
       "65                                                NaN   \n",
       "66                                                NaN   \n",
       "67                                                NaN   \n",
       "\n",
       "                                               surfc3  \\\n",
       "0                                                 NaN   \n",
       "1                                                 NaN   \n",
       "2   [[0, 0, 0, 0, 0, 0, 0, 0, 0, 0, 0, 0, 0, 0, 0,...   \n",
       "3                                                 NaN   \n",
       "4                                                 NaN   \n",
       "5                                                 NaN   \n",
       "6                                                 NaN   \n",
       "7                                                 NaN   \n",
       "8                                                 NaN   \n",
       "9                                                 NaN   \n",
       "10                                                NaN   \n",
       "11                                                NaN   \n",
       "12                                                NaN   \n",
       "13                                                NaN   \n",
       "14                                                NaN   \n",
       "15                                                NaN   \n",
       "16                                                NaN   \n",
       "17                                                NaN   \n",
       "18                                                NaN   \n",
       "19                                                NaN   \n",
       "20                                                NaN   \n",
       "21                                                NaN   \n",
       "22                                                NaN   \n",
       "23                                                NaN   \n",
       "24                                                NaN   \n",
       "25                                                NaN   \n",
       "26                                                NaN   \n",
       "27                                                NaN   \n",
       "28                                                NaN   \n",
       "29                                                NaN   \n",
       "..                                                ...   \n",
       "38                                                NaN   \n",
       "39                                                NaN   \n",
       "40                                                NaN   \n",
       "41                                                NaN   \n",
       "42                                                NaN   \n",
       "43                                                NaN   \n",
       "44                                                NaN   \n",
       "45                                                NaN   \n",
       "46                                                NaN   \n",
       "47                                                NaN   \n",
       "48                                                NaN   \n",
       "49                                                NaN   \n",
       "50                                                NaN   \n",
       "51                                                NaN   \n",
       "52                                                NaN   \n",
       "53                                                NaN   \n",
       "54                                                NaN   \n",
       "55                                                NaN   \n",
       "56                                                NaN   \n",
       "57                                                NaN   \n",
       "58                                                NaN   \n",
       "59                                                NaN   \n",
       "60                                                NaN   \n",
       "61                                                NaN   \n",
       "62                                                NaN   \n",
       "63                                                NaN   \n",
       "64                                                NaN   \n",
       "65                                                NaN   \n",
       "66                                                NaN   \n",
       "67                                                NaN   \n",
       "\n",
       "                                                   z3  \\\n",
       "0                                                 NaN   \n",
       "1                                                 NaN   \n",
       "2   [[6.5, 6.5, 6.5, 6.5, 6.5, 6.5, 6.5, 6.5, 6.5,...   \n",
       "3                                                 NaN   \n",
       "4                                                 NaN   \n",
       "5                                                 NaN   \n",
       "6                                                 NaN   \n",
       "7                                                 NaN   \n",
       "8                                                 NaN   \n",
       "9                                                 NaN   \n",
       "10                                                NaN   \n",
       "11                                                NaN   \n",
       "12                                                NaN   \n",
       "13                                                NaN   \n",
       "14                                                NaN   \n",
       "15                                                NaN   \n",
       "16                                                NaN   \n",
       "17                                                NaN   \n",
       "18                                                NaN   \n",
       "19                                                NaN   \n",
       "20                                                NaN   \n",
       "21                                                NaN   \n",
       "22                                                NaN   \n",
       "23                                                NaN   \n",
       "24                                                NaN   \n",
       "25                                                NaN   \n",
       "26                                                NaN   \n",
       "27                                                NaN   \n",
       "28                                                NaN   \n",
       "29                                                NaN   \n",
       "..                                                ...   \n",
       "38                                                NaN   \n",
       "39                                                NaN   \n",
       "40                                                NaN   \n",
       "41                                                NaN   \n",
       "42                                                NaN   \n",
       "43                                                NaN   \n",
       "44                                                NaN   \n",
       "45                                                NaN   \n",
       "46                                                NaN   \n",
       "47                                                NaN   \n",
       "48                                                NaN   \n",
       "49                                                NaN   \n",
       "50                                                NaN   \n",
       "51                                                NaN   \n",
       "52                                                NaN   \n",
       "53                                                NaN   \n",
       "54                                                NaN   \n",
       "55                                                NaN   \n",
       "56                                                NaN   \n",
       "57                                                NaN   \n",
       "58                                                NaN   \n",
       "59                                                NaN   \n",
       "60                                                NaN   \n",
       "61                                                NaN   \n",
       "62                                                NaN   \n",
       "63                                                NaN   \n",
       "64                                                NaN   \n",
       "65                                                NaN   \n",
       "66                                                NaN   \n",
       "67                                                NaN   \n",
       "\n",
       "                                               surfc4  \\\n",
       "0                                                 NaN   \n",
       "1                                                 NaN   \n",
       "2                                                 NaN   \n",
       "3   [[0, 0, 0, 0, 0, 0, 0, 0, 0, 0, 0, 0, 0, 0, 0,...   \n",
       "4                                                 NaN   \n",
       "5                                                 NaN   \n",
       "6                                                 NaN   \n",
       "7                                                 NaN   \n",
       "8                                                 NaN   \n",
       "9                                                 NaN   \n",
       "10                                                NaN   \n",
       "11                                                NaN   \n",
       "12                                                NaN   \n",
       "13                                                NaN   \n",
       "14                                                NaN   \n",
       "15                                                NaN   \n",
       "16                                                NaN   \n",
       "17                                                NaN   \n",
       "18                                                NaN   \n",
       "19                                                NaN   \n",
       "20                                                NaN   \n",
       "21                                                NaN   \n",
       "22                                                NaN   \n",
       "23                                                NaN   \n",
       "24                                                NaN   \n",
       "25                                                NaN   \n",
       "26                                                NaN   \n",
       "27                                                NaN   \n",
       "28                                                NaN   \n",
       "29                                                NaN   \n",
       "..                                                ...   \n",
       "38                                                NaN   \n",
       "39                                                NaN   \n",
       "40                                                NaN   \n",
       "41                                                NaN   \n",
       "42                                                NaN   \n",
       "43                                                NaN   \n",
       "44                                                NaN   \n",
       "45                                                NaN   \n",
       "46                                                NaN   \n",
       "47                                                NaN   \n",
       "48                                                NaN   \n",
       "49                                                NaN   \n",
       "50                                                NaN   \n",
       "51                                                NaN   \n",
       "52                                                NaN   \n",
       "53                                                NaN   \n",
       "54                                                NaN   \n",
       "55                                                NaN   \n",
       "56                                                NaN   \n",
       "57                                                NaN   \n",
       "58                                                NaN   \n",
       "59                                                NaN   \n",
       "60                                                NaN   \n",
       "61                                                NaN   \n",
       "62                                                NaN   \n",
       "63                                                NaN   \n",
       "64                                                NaN   \n",
       "65                                                NaN   \n",
       "66                                                NaN   \n",
       "67                                                NaN   \n",
       "\n",
       "                                                   z4  \\\n",
       "0                                                 NaN   \n",
       "1                                                 NaN   \n",
       "2                                                 NaN   \n",
       "3   [[6.4, 6.4, 6.4, 6.4, 6.4, 6.4, 6.4, 6.4, 6.4,...   \n",
       "4                                                 NaN   \n",
       "5                                                 NaN   \n",
       "6                                                 NaN   \n",
       "7                                                 NaN   \n",
       "8                                                 NaN   \n",
       "9                                                 NaN   \n",
       "10                                                NaN   \n",
       "11                                                NaN   \n",
       "12                                                NaN   \n",
       "13                                                NaN   \n",
       "14                                                NaN   \n",
       "15                                                NaN   \n",
       "16                                                NaN   \n",
       "17                                                NaN   \n",
       "18                                                NaN   \n",
       "19                                                NaN   \n",
       "20                                                NaN   \n",
       "21                                                NaN   \n",
       "22                                                NaN   \n",
       "23                                                NaN   \n",
       "24                                                NaN   \n",
       "25                                                NaN   \n",
       "26                                                NaN   \n",
       "27                                                NaN   \n",
       "28                                                NaN   \n",
       "29                                                NaN   \n",
       "..                                                ...   \n",
       "38                                                NaN   \n",
       "39                                                NaN   \n",
       "40                                                NaN   \n",
       "41                                                NaN   \n",
       "42                                                NaN   \n",
       "43                                                NaN   \n",
       "44                                                NaN   \n",
       "45                                                NaN   \n",
       "46                                                NaN   \n",
       "47                                                NaN   \n",
       "48                                                NaN   \n",
       "49                                                NaN   \n",
       "50                                                NaN   \n",
       "51                                                NaN   \n",
       "52                                                NaN   \n",
       "53                                                NaN   \n",
       "54                                                NaN   \n",
       "55                                                NaN   \n",
       "56                                                NaN   \n",
       "57                                                NaN   \n",
       "58                                                NaN   \n",
       "59                                                NaN   \n",
       "60                                                NaN   \n",
       "61                                                NaN   \n",
       "62                                                NaN   \n",
       "63                                                NaN   \n",
       "64                                                NaN   \n",
       "65                                                NaN   \n",
       "66                                                NaN   \n",
       "67                                                NaN   \n",
       "\n",
       "                                               surfc5  \\\n",
       "0                                                 NaN   \n",
       "1                                                 NaN   \n",
       "2                                                 NaN   \n",
       "3                                                 NaN   \n",
       "4   [[0, 0, 0, 0, 0, 0, 0, 0, 0, 0, 0, 0, 0, 0, 0,...   \n",
       "5                                                 NaN   \n",
       "6                                                 NaN   \n",
       "7                                                 NaN   \n",
       "8                                                 NaN   \n",
       "9                                                 NaN   \n",
       "10                                                NaN   \n",
       "11                                                NaN   \n",
       "12                                                NaN   \n",
       "13                                                NaN   \n",
       "14                                                NaN   \n",
       "15                                                NaN   \n",
       "16                                                NaN   \n",
       "17                                                NaN   \n",
       "18                                                NaN   \n",
       "19                                                NaN   \n",
       "20                                                NaN   \n",
       "21                                                NaN   \n",
       "22                                                NaN   \n",
       "23                                                NaN   \n",
       "24                                                NaN   \n",
       "25                                                NaN   \n",
       "26                                                NaN   \n",
       "27                                                NaN   \n",
       "28                                                NaN   \n",
       "29                                                NaN   \n",
       "..                                                ...   \n",
       "38                                                NaN   \n",
       "39                                                NaN   \n",
       "40                                                NaN   \n",
       "41                                                NaN   \n",
       "42                                                NaN   \n",
       "43                                                NaN   \n",
       "44                                                NaN   \n",
       "45                                                NaN   \n",
       "46                                                NaN   \n",
       "47                                                NaN   \n",
       "48                                                NaN   \n",
       "49                                                NaN   \n",
       "50                                                NaN   \n",
       "51                                                NaN   \n",
       "52                                                NaN   \n",
       "53                                                NaN   \n",
       "54                                                NaN   \n",
       "55                                                NaN   \n",
       "56                                                NaN   \n",
       "57                                                NaN   \n",
       "58                                                NaN   \n",
       "59                                                NaN   \n",
       "60                                                NaN   \n",
       "61                                                NaN   \n",
       "62                                                NaN   \n",
       "63                                                NaN   \n",
       "64                                                NaN   \n",
       "65                                                NaN   \n",
       "66                                                NaN   \n",
       "67                                                NaN   \n",
       "\n",
       "                                                   z5  ...  \\\n",
       "0                                                 NaN  ...   \n",
       "1                                                 NaN  ...   \n",
       "2                                                 NaN  ...   \n",
       "3                                                 NaN  ...   \n",
       "4   [[6.3, 6.3, 6.3, 6.3, 6.3, 6.3, 6.3, 6.3, 6.3,...  ...   \n",
       "5                                                 NaN  ...   \n",
       "6                                                 NaN  ...   \n",
       "7                                                 NaN  ...   \n",
       "8                                                 NaN  ...   \n",
       "9                                                 NaN  ...   \n",
       "10                                                NaN  ...   \n",
       "11                                                NaN  ...   \n",
       "12                                                NaN  ...   \n",
       "13                                                NaN  ...   \n",
       "14                                                NaN  ...   \n",
       "15                                                NaN  ...   \n",
       "16                                                NaN  ...   \n",
       "17                                                NaN  ...   \n",
       "18                                                NaN  ...   \n",
       "19                                                NaN  ...   \n",
       "20                                                NaN  ...   \n",
       "21                                                NaN  ...   \n",
       "22                                                NaN  ...   \n",
       "23                                                NaN  ...   \n",
       "24                                                NaN  ...   \n",
       "25                                                NaN  ...   \n",
       "26                                                NaN  ...   \n",
       "27                                                NaN  ...   \n",
       "28                                                NaN  ...   \n",
       "29                                                NaN  ...   \n",
       "..                                                ...  ...   \n",
       "38                                                NaN  ...   \n",
       "39                                                NaN  ...   \n",
       "40                                                NaN  ...   \n",
       "41                                                NaN  ...   \n",
       "42                                                NaN  ...   \n",
       "43                                                NaN  ...   \n",
       "44                                                NaN  ...   \n",
       "45                                                NaN  ...   \n",
       "46                                                NaN  ...   \n",
       "47                                                NaN  ...   \n",
       "48                                                NaN  ...   \n",
       "49                                                NaN  ...   \n",
       "50                                                NaN  ...   \n",
       "51                                                NaN  ...   \n",
       "52                                                NaN  ...   \n",
       "53                                                NaN  ...   \n",
       "54                                                NaN  ...   \n",
       "55                                                NaN  ...   \n",
       "56                                                NaN  ...   \n",
       "57                                                NaN  ...   \n",
       "58                                                NaN  ...   \n",
       "59                                                NaN  ...   \n",
       "60                                                NaN  ...   \n",
       "61                                                NaN  ...   \n",
       "62                                                NaN  ...   \n",
       "63                                                NaN  ...   \n",
       "64                                                NaN  ...   \n",
       "65                                                NaN  ...   \n",
       "66                                                NaN  ...   \n",
       "67                                                NaN  ...   \n",
       "\n",
       "                                              surfc64  \\\n",
       "0                                                 NaN   \n",
       "1                                                 NaN   \n",
       "2                                                 NaN   \n",
       "3                                                 NaN   \n",
       "4                                                 NaN   \n",
       "5                                                 NaN   \n",
       "6                                                 NaN   \n",
       "7                                                 NaN   \n",
       "8                                                 NaN   \n",
       "9                                                 NaN   \n",
       "10                                                NaN   \n",
       "11                                                NaN   \n",
       "12                                                NaN   \n",
       "13                                                NaN   \n",
       "14                                                NaN   \n",
       "15                                                NaN   \n",
       "16                                                NaN   \n",
       "17                                                NaN   \n",
       "18                                                NaN   \n",
       "19                                                NaN   \n",
       "20                                                NaN   \n",
       "21                                                NaN   \n",
       "22                                                NaN   \n",
       "23                                                NaN   \n",
       "24                                                NaN   \n",
       "25                                                NaN   \n",
       "26                                                NaN   \n",
       "27                                                NaN   \n",
       "28                                                NaN   \n",
       "29                                                NaN   \n",
       "..                                                ...   \n",
       "38                                                NaN   \n",
       "39                                                NaN   \n",
       "40                                                NaN   \n",
       "41                                                NaN   \n",
       "42                                                NaN   \n",
       "43                                                NaN   \n",
       "44                                                NaN   \n",
       "45                                                NaN   \n",
       "46                                                NaN   \n",
       "47                                                NaN   \n",
       "48                                                NaN   \n",
       "49                                                NaN   \n",
       "50                                                NaN   \n",
       "51                                                NaN   \n",
       "52                                                NaN   \n",
       "53                                                NaN   \n",
       "54                                                NaN   \n",
       "55                                                NaN   \n",
       "56                                                NaN   \n",
       "57                                                NaN   \n",
       "58                                                NaN   \n",
       "59                                                NaN   \n",
       "60                                                NaN   \n",
       "61                                                NaN   \n",
       "62                                                NaN   \n",
       "63  [[0, 0, 0, 0, 0, 0, 0, 0, 0, 0, 0, 0, 0, 0, 0,...   \n",
       "64                                                NaN   \n",
       "65                                                NaN   \n",
       "66                                                NaN   \n",
       "67                                                NaN   \n",
       "\n",
       "                                                  z64  \\\n",
       "0                                                 NaN   \n",
       "1                                                 NaN   \n",
       "2                                                 NaN   \n",
       "3                                                 NaN   \n",
       "4                                                 NaN   \n",
       "5                                                 NaN   \n",
       "6                                                 NaN   \n",
       "7                                                 NaN   \n",
       "8                                                 NaN   \n",
       "9                                                 NaN   \n",
       "10                                                NaN   \n",
       "11                                                NaN   \n",
       "12                                                NaN   \n",
       "13                                                NaN   \n",
       "14                                                NaN   \n",
       "15                                                NaN   \n",
       "16                                                NaN   \n",
       "17                                                NaN   \n",
       "18                                                NaN   \n",
       "19                                                NaN   \n",
       "20                                                NaN   \n",
       "21                                                NaN   \n",
       "22                                                NaN   \n",
       "23                                                NaN   \n",
       "24                                                NaN   \n",
       "25                                                NaN   \n",
       "26                                                NaN   \n",
       "27                                                NaN   \n",
       "28                                                NaN   \n",
       "29                                                NaN   \n",
       "..                                                ...   \n",
       "38                                                NaN   \n",
       "39                                                NaN   \n",
       "40                                                NaN   \n",
       "41                                                NaN   \n",
       "42                                                NaN   \n",
       "43                                                NaN   \n",
       "44                                                NaN   \n",
       "45                                                NaN   \n",
       "46                                                NaN   \n",
       "47                                                NaN   \n",
       "48                                                NaN   \n",
       "49                                                NaN   \n",
       "50                                                NaN   \n",
       "51                                                NaN   \n",
       "52                                                NaN   \n",
       "53                                                NaN   \n",
       "54                                                NaN   \n",
       "55                                                NaN   \n",
       "56                                                NaN   \n",
       "57                                                NaN   \n",
       "58                                                NaN   \n",
       "59                                                NaN   \n",
       "60                                                NaN   \n",
       "61                                                NaN   \n",
       "62                                                NaN   \n",
       "63  [[0.39999999999999947, 0.39999999999999947, 0....   \n",
       "64                                                NaN   \n",
       "65                                                NaN   \n",
       "66                                                NaN   \n",
       "67                                                NaN   \n",
       "\n",
       "                                              surfc65  \\\n",
       "0                                                 NaN   \n",
       "1                                                 NaN   \n",
       "2                                                 NaN   \n",
       "3                                                 NaN   \n",
       "4                                                 NaN   \n",
       "5                                                 NaN   \n",
       "6                                                 NaN   \n",
       "7                                                 NaN   \n",
       "8                                                 NaN   \n",
       "9                                                 NaN   \n",
       "10                                                NaN   \n",
       "11                                                NaN   \n",
       "12                                                NaN   \n",
       "13                                                NaN   \n",
       "14                                                NaN   \n",
       "15                                                NaN   \n",
       "16                                                NaN   \n",
       "17                                                NaN   \n",
       "18                                                NaN   \n",
       "19                                                NaN   \n",
       "20                                                NaN   \n",
       "21                                                NaN   \n",
       "22                                                NaN   \n",
       "23                                                NaN   \n",
       "24                                                NaN   \n",
       "25                                                NaN   \n",
       "26                                                NaN   \n",
       "27                                                NaN   \n",
       "28                                                NaN   \n",
       "29                                                NaN   \n",
       "..                                                ...   \n",
       "38                                                NaN   \n",
       "39                                                NaN   \n",
       "40                                                NaN   \n",
       "41                                                NaN   \n",
       "42                                                NaN   \n",
       "43                                                NaN   \n",
       "44                                                NaN   \n",
       "45                                                NaN   \n",
       "46                                                NaN   \n",
       "47                                                NaN   \n",
       "48                                                NaN   \n",
       "49                                                NaN   \n",
       "50                                                NaN   \n",
       "51                                                NaN   \n",
       "52                                                NaN   \n",
       "53                                                NaN   \n",
       "54                                                NaN   \n",
       "55                                                NaN   \n",
       "56                                                NaN   \n",
       "57                                                NaN   \n",
       "58                                                NaN   \n",
       "59                                                NaN   \n",
       "60                                                NaN   \n",
       "61                                                NaN   \n",
       "62                                                NaN   \n",
       "63                                                NaN   \n",
       "64  [[0, 0, 0, 0, 0, 0, 0, 0, 0, 0, 0, 0, 0, 0, 0,...   \n",
       "65                                                NaN   \n",
       "66                                                NaN   \n",
       "67                                                NaN   \n",
       "\n",
       "                                                  z65  \\\n",
       "0                                                 NaN   \n",
       "1                                                 NaN   \n",
       "2                                                 NaN   \n",
       "3                                                 NaN   \n",
       "4                                                 NaN   \n",
       "5                                                 NaN   \n",
       "6                                                 NaN   \n",
       "7                                                 NaN   \n",
       "8                                                 NaN   \n",
       "9                                                 NaN   \n",
       "10                                                NaN   \n",
       "11                                                NaN   \n",
       "12                                                NaN   \n",
       "13                                                NaN   \n",
       "14                                                NaN   \n",
       "15                                                NaN   \n",
       "16                                                NaN   \n",
       "17                                                NaN   \n",
       "18                                                NaN   \n",
       "19                                                NaN   \n",
       "20                                                NaN   \n",
       "21                                                NaN   \n",
       "22                                                NaN   \n",
       "23                                                NaN   \n",
       "24                                                NaN   \n",
       "25                                                NaN   \n",
       "26                                                NaN   \n",
       "27                                                NaN   \n",
       "28                                                NaN   \n",
       "29                                                NaN   \n",
       "..                                                ...   \n",
       "38                                                NaN   \n",
       "39                                                NaN   \n",
       "40                                                NaN   \n",
       "41                                                NaN   \n",
       "42                                                NaN   \n",
       "43                                                NaN   \n",
       "44                                                NaN   \n",
       "45                                                NaN   \n",
       "46                                                NaN   \n",
       "47                                                NaN   \n",
       "48                                                NaN   \n",
       "49                                                NaN   \n",
       "50                                                NaN   \n",
       "51                                                NaN   \n",
       "52                                                NaN   \n",
       "53                                                NaN   \n",
       "54                                                NaN   \n",
       "55                                                NaN   \n",
       "56                                                NaN   \n",
       "57                                                NaN   \n",
       "58                                                NaN   \n",
       "59                                                NaN   \n",
       "60                                                NaN   \n",
       "61                                                NaN   \n",
       "62                                                NaN   \n",
       "63                                                NaN   \n",
       "64  [[0.2999999999999998, 0.2999999999999998, 0.29...   \n",
       "65                                                NaN   \n",
       "66                                                NaN   \n",
       "67                                                NaN   \n",
       "\n",
       "                                              surfc66  \\\n",
       "0                                                 NaN   \n",
       "1                                                 NaN   \n",
       "2                                                 NaN   \n",
       "3                                                 NaN   \n",
       "4                                                 NaN   \n",
       "5                                                 NaN   \n",
       "6                                                 NaN   \n",
       "7                                                 NaN   \n",
       "8                                                 NaN   \n",
       "9                                                 NaN   \n",
       "10                                                NaN   \n",
       "11                                                NaN   \n",
       "12                                                NaN   \n",
       "13                                                NaN   \n",
       "14                                                NaN   \n",
       "15                                                NaN   \n",
       "16                                                NaN   \n",
       "17                                                NaN   \n",
       "18                                                NaN   \n",
       "19                                                NaN   \n",
       "20                                                NaN   \n",
       "21                                                NaN   \n",
       "22                                                NaN   \n",
       "23                                                NaN   \n",
       "24                                                NaN   \n",
       "25                                                NaN   \n",
       "26                                                NaN   \n",
       "27                                                NaN   \n",
       "28                                                NaN   \n",
       "29                                                NaN   \n",
       "..                                                ...   \n",
       "38                                                NaN   \n",
       "39                                                NaN   \n",
       "40                                                NaN   \n",
       "41                                                NaN   \n",
       "42                                                NaN   \n",
       "43                                                NaN   \n",
       "44                                                NaN   \n",
       "45                                                NaN   \n",
       "46                                                NaN   \n",
       "47                                                NaN   \n",
       "48                                                NaN   \n",
       "49                                                NaN   \n",
       "50                                                NaN   \n",
       "51                                                NaN   \n",
       "52                                                NaN   \n",
       "53                                                NaN   \n",
       "54                                                NaN   \n",
       "55                                                NaN   \n",
       "56                                                NaN   \n",
       "57                                                NaN   \n",
       "58                                                NaN   \n",
       "59                                                NaN   \n",
       "60                                                NaN   \n",
       "61                                                NaN   \n",
       "62                                                NaN   \n",
       "63                                                NaN   \n",
       "64                                                NaN   \n",
       "65  [[0, 0, 0, 0, 0, 0, 0, 0, 0, 0, 0, 0, 0, 0, 0,...   \n",
       "66                                                NaN   \n",
       "67                                                NaN   \n",
       "\n",
       "                                                  z66  \\\n",
       "0                                                 NaN   \n",
       "1                                                 NaN   \n",
       "2                                                 NaN   \n",
       "3                                                 NaN   \n",
       "4                                                 NaN   \n",
       "5                                                 NaN   \n",
       "6                                                 NaN   \n",
       "7                                                 NaN   \n",
       "8                                                 NaN   \n",
       "9                                                 NaN   \n",
       "10                                                NaN   \n",
       "11                                                NaN   \n",
       "12                                                NaN   \n",
       "13                                                NaN   \n",
       "14                                                NaN   \n",
       "15                                                NaN   \n",
       "16                                                NaN   \n",
       "17                                                NaN   \n",
       "18                                                NaN   \n",
       "19                                                NaN   \n",
       "20                                                NaN   \n",
       "21                                                NaN   \n",
       "22                                                NaN   \n",
       "23                                                NaN   \n",
       "24                                                NaN   \n",
       "25                                                NaN   \n",
       "26                                                NaN   \n",
       "27                                                NaN   \n",
       "28                                                NaN   \n",
       "29                                                NaN   \n",
       "..                                                ...   \n",
       "38                                                NaN   \n",
       "39                                                NaN   \n",
       "40                                                NaN   \n",
       "41                                                NaN   \n",
       "42                                                NaN   \n",
       "43                                                NaN   \n",
       "44                                                NaN   \n",
       "45                                                NaN   \n",
       "46                                                NaN   \n",
       "47                                                NaN   \n",
       "48                                                NaN   \n",
       "49                                                NaN   \n",
       "50                                                NaN   \n",
       "51                                                NaN   \n",
       "52                                                NaN   \n",
       "53                                                NaN   \n",
       "54                                                NaN   \n",
       "55                                                NaN   \n",
       "56                                                NaN   \n",
       "57                                                NaN   \n",
       "58                                                NaN   \n",
       "59                                                NaN   \n",
       "60                                                NaN   \n",
       "61                                                NaN   \n",
       "62                                                NaN   \n",
       "63                                                NaN   \n",
       "64                                                NaN   \n",
       "65  [[0.20000000000000018, 0.20000000000000018, 0....   \n",
       "66                                                NaN   \n",
       "67                                                NaN   \n",
       "\n",
       "                                              surfc67  \\\n",
       "0                                                 NaN   \n",
       "1                                                 NaN   \n",
       "2                                                 NaN   \n",
       "3                                                 NaN   \n",
       "4                                                 NaN   \n",
       "5                                                 NaN   \n",
       "6                                                 NaN   \n",
       "7                                                 NaN   \n",
       "8                                                 NaN   \n",
       "9                                                 NaN   \n",
       "10                                                NaN   \n",
       "11                                                NaN   \n",
       "12                                                NaN   \n",
       "13                                                NaN   \n",
       "14                                                NaN   \n",
       "15                                                NaN   \n",
       "16                                                NaN   \n",
       "17                                                NaN   \n",
       "18                                                NaN   \n",
       "19                                                NaN   \n",
       "20                                                NaN   \n",
       "21                                                NaN   \n",
       "22                                                NaN   \n",
       "23                                                NaN   \n",
       "24                                                NaN   \n",
       "25                                                NaN   \n",
       "26                                                NaN   \n",
       "27                                                NaN   \n",
       "28                                                NaN   \n",
       "29                                                NaN   \n",
       "..                                                ...   \n",
       "38                                                NaN   \n",
       "39                                                NaN   \n",
       "40                                                NaN   \n",
       "41                                                NaN   \n",
       "42                                                NaN   \n",
       "43                                                NaN   \n",
       "44                                                NaN   \n",
       "45                                                NaN   \n",
       "46                                                NaN   \n",
       "47                                                NaN   \n",
       "48                                                NaN   \n",
       "49                                                NaN   \n",
       "50                                                NaN   \n",
       "51                                                NaN   \n",
       "52                                                NaN   \n",
       "53                                                NaN   \n",
       "54                                                NaN   \n",
       "55                                                NaN   \n",
       "56                                                NaN   \n",
       "57                                                NaN   \n",
       "58                                                NaN   \n",
       "59                                                NaN   \n",
       "60                                                NaN   \n",
       "61                                                NaN   \n",
       "62                                                NaN   \n",
       "63                                                NaN   \n",
       "64                                                NaN   \n",
       "65                                                NaN   \n",
       "66  [[0, 0, 0, 0, 0, 0, 0, 0, 0, 0, 0, 0, 0, 0, 0,...   \n",
       "67                                                NaN   \n",
       "\n",
       "                                                  z67  \\\n",
       "0                                                 NaN   \n",
       "1                                                 NaN   \n",
       "2                                                 NaN   \n",
       "3                                                 NaN   \n",
       "4                                                 NaN   \n",
       "5                                                 NaN   \n",
       "6                                                 NaN   \n",
       "7                                                 NaN   \n",
       "8                                                 NaN   \n",
       "9                                                 NaN   \n",
       "10                                                NaN   \n",
       "11                                                NaN   \n",
       "12                                                NaN   \n",
       "13                                                NaN   \n",
       "14                                                NaN   \n",
       "15                                                NaN   \n",
       "16                                                NaN   \n",
       "17                                                NaN   \n",
       "18                                                NaN   \n",
       "19                                                NaN   \n",
       "20                                                NaN   \n",
       "21                                                NaN   \n",
       "22                                                NaN   \n",
       "23                                                NaN   \n",
       "24                                                NaN   \n",
       "25                                                NaN   \n",
       "26                                                NaN   \n",
       "27                                                NaN   \n",
       "28                                                NaN   \n",
       "29                                                NaN   \n",
       "..                                                ...   \n",
       "38                                                NaN   \n",
       "39                                                NaN   \n",
       "40                                                NaN   \n",
       "41                                                NaN   \n",
       "42                                                NaN   \n",
       "43                                                NaN   \n",
       "44                                                NaN   \n",
       "45                                                NaN   \n",
       "46                                                NaN   \n",
       "47                                                NaN   \n",
       "48                                                NaN   \n",
       "49                                                NaN   \n",
       "50                                                NaN   \n",
       "51                                                NaN   \n",
       "52                                                NaN   \n",
       "53                                                NaN   \n",
       "54                                                NaN   \n",
       "55                                                NaN   \n",
       "56                                                NaN   \n",
       "57                                                NaN   \n",
       "58                                                NaN   \n",
       "59                                                NaN   \n",
       "60                                                NaN   \n",
       "61                                                NaN   \n",
       "62                                                NaN   \n",
       "63                                                NaN   \n",
       "64                                                NaN   \n",
       "65                                                NaN   \n",
       "66  [[0.09999999999999964, 0.09999999999999964, 0....   \n",
       "67                                                NaN   \n",
       "\n",
       "                                              surfc68  \\\n",
       "0                                                 NaN   \n",
       "1                                                 NaN   \n",
       "2                                                 NaN   \n",
       "3                                                 NaN   \n",
       "4                                                 NaN   \n",
       "5                                                 NaN   \n",
       "6                                                 NaN   \n",
       "7                                                 NaN   \n",
       "8                                                 NaN   \n",
       "9                                                 NaN   \n",
       "10                                                NaN   \n",
       "11                                                NaN   \n",
       "12                                                NaN   \n",
       "13                                                NaN   \n",
       "14                                                NaN   \n",
       "15                                                NaN   \n",
       "16                                                NaN   \n",
       "17                                                NaN   \n",
       "18                                                NaN   \n",
       "19                                                NaN   \n",
       "20                                                NaN   \n",
       "21                                                NaN   \n",
       "22                                                NaN   \n",
       "23                                                NaN   \n",
       "24                                                NaN   \n",
       "25                                                NaN   \n",
       "26                                                NaN   \n",
       "27                                                NaN   \n",
       "28                                                NaN   \n",
       "29                                                NaN   \n",
       "..                                                ...   \n",
       "38                                                NaN   \n",
       "39                                                NaN   \n",
       "40                                                NaN   \n",
       "41                                                NaN   \n",
       "42                                                NaN   \n",
       "43                                                NaN   \n",
       "44                                                NaN   \n",
       "45                                                NaN   \n",
       "46                                                NaN   \n",
       "47                                                NaN   \n",
       "48                                                NaN   \n",
       "49                                                NaN   \n",
       "50                                                NaN   \n",
       "51                                                NaN   \n",
       "52                                                NaN   \n",
       "53                                                NaN   \n",
       "54                                                NaN   \n",
       "55                                                NaN   \n",
       "56                                                NaN   \n",
       "57                                                NaN   \n",
       "58                                                NaN   \n",
       "59                                                NaN   \n",
       "60                                                NaN   \n",
       "61                                                NaN   \n",
       "62                                                NaN   \n",
       "63                                                NaN   \n",
       "64                                                NaN   \n",
       "65                                                NaN   \n",
       "66                                                NaN   \n",
       "67  [[0, 0, 0, 0, 0, 0, 0, 0, 0, 0, 0, 0, 0, 0, 0,...   \n",
       "\n",
       "                                                  z68  \n",
       "0                                                 NaN  \n",
       "1                                                 NaN  \n",
       "2                                                 NaN  \n",
       "3                                                 NaN  \n",
       "4                                                 NaN  \n",
       "5                                                 NaN  \n",
       "6                                                 NaN  \n",
       "7                                                 NaN  \n",
       "8                                                 NaN  \n",
       "9                                                 NaN  \n",
       "10                                                NaN  \n",
       "11                                                NaN  \n",
       "12                                                NaN  \n",
       "13                                                NaN  \n",
       "14                                                NaN  \n",
       "15                                                NaN  \n",
       "16                                                NaN  \n",
       "17                                                NaN  \n",
       "18                                                NaN  \n",
       "19                                                NaN  \n",
       "20                                                NaN  \n",
       "21                                                NaN  \n",
       "22                                                NaN  \n",
       "23                                                NaN  \n",
       "24                                                NaN  \n",
       "25                                                NaN  \n",
       "26                                                NaN  \n",
       "27                                                NaN  \n",
       "28                                                NaN  \n",
       "29                                                NaN  \n",
       "..                                                ...  \n",
       "38                                                NaN  \n",
       "39                                                NaN  \n",
       "40                                                NaN  \n",
       "41                                                NaN  \n",
       "42                                                NaN  \n",
       "43                                                NaN  \n",
       "44                                                NaN  \n",
       "45                                                NaN  \n",
       "46                                                NaN  \n",
       "47                                                NaN  \n",
       "48                                                NaN  \n",
       "49                                                NaN  \n",
       "50                                                NaN  \n",
       "51                                                NaN  \n",
       "52                                                NaN  \n",
       "53                                                NaN  \n",
       "54                                                NaN  \n",
       "55                                                NaN  \n",
       "56                                                NaN  \n",
       "57                                                NaN  \n",
       "58                                                NaN  \n",
       "59                                                NaN  \n",
       "60                                                NaN  \n",
       "61                                                NaN  \n",
       "62                                                NaN  \n",
       "63                                                NaN  \n",
       "64                                                NaN  \n",
       "65                                                NaN  \n",
       "66                                                NaN  \n",
       "67  [[0.0, 0.0, 0.0, 0.0, 0.0, 0.0, 0.0, 0.0, 0.0,...  \n",
       "\n",
       "[68 rows x 136 columns]"
      ]
     },
     "execution_count": 27,
     "metadata": {},
     "output_type": "execute_result"
    }
   ],
   "source": [
    "df"
   ]
  },
  {
   "cell_type": "code",
   "execution_count": 32,
   "metadata": {},
   "outputs": [
    {
     "data": {
      "text/plain": [
       "0    [[6.7, 6.7, 6.7, 6.7, 6.7, 6.7, 6.7, 6.7, 6.7,...\n",
       "Name: z1, dtype: object"
      ]
     },
     "execution_count": 32,
     "metadata": {},
     "output_type": "execute_result"
    }
   ],
   "source": [
    "grid.loc[:,'z1'].dropna()"
   ]
  },
  {
   "cell_type": "code",
   "execution_count": 10,
   "metadata": {},
   "outputs": [
    {
     "name": "stdout",
     "output_type": "stream",
     "text": [
      "232\n",
      "256\n"
     ]
    }
   ],
   "source": [
    "print(r)\n",
    "print(c)"
   ]
  },
  {
   "cell_type": "code",
   "execution_count": 32,
   "metadata": {},
   "outputs": [
    {
     "data": {
      "text/html": [
       "        <script type=\"text/javascript\">\n",
       "        window.PlotlyConfig = {MathJaxConfig: 'local'};\n",
       "        if (window.MathJax) {MathJax.Hub.Config({SVG: {font: \"STIX-Web\"}});}\n",
       "        if (typeof require !== 'undefined') {\n",
       "        require.undef(\"plotly\");\n",
       "        requirejs.config({\n",
       "            paths: {\n",
       "                'plotly': ['https://cdn.plot.ly/plotly-latest.min']\n",
       "            }\n",
       "        });\n",
       "        require(['plotly'], function(Plotly) {\n",
       "            window._Plotly = Plotly;\n",
       "        });\n",
       "        }\n",
       "        </script>\n",
       "        "
      ]
     },
     "metadata": {},
     "output_type": "display_data"
    }
   ],
   "source": [
    "init_notebook_mode(connected=True)"
   ]
  },
  {
   "cell_type": "code",
   "execution_count": null,
   "metadata": {},
   "outputs": [],
   "source": []
  }
 ],
 "metadata": {
  "kernelspec": {
   "display_name": "Python 3",
   "language": "python",
   "name": "python3"
  },
  "language_info": {
   "codemirror_mode": {
    "name": "ipython",
    "version": 3
   },
   "file_extension": ".py",
   "mimetype": "text/x-python",
   "name": "python",
   "nbconvert_exporter": "python",
   "pygments_lexer": "ipython3",
   "version": "3.6.4"
  }
 },
 "nbformat": 4,
 "nbformat_minor": 2
}
